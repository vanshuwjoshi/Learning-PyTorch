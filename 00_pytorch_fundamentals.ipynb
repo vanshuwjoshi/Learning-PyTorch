{
  "nbformat": 4,
  "nbformat_minor": 0,
  "metadata": {
    "colab": {
      "provenance": [],
      "gpuType": "T4",
      "authorship_tag": "ABX9TyNH3TyOLlkSokvDZHHbJxAB",
      "include_colab_link": true
    },
    "kernelspec": {
      "name": "python3",
      "display_name": "Python 3"
    },
    "language_info": {
      "name": "python"
    }
  },
  "cells": [
    {
      "cell_type": "markdown",
      "metadata": {
        "id": "view-in-github",
        "colab_type": "text"
      },
      "source": [
        "<a href=\"https://colab.research.google.com/github/vanshuwjoshi/Learning-PyTorch/blob/main/00_pytorch_fundamentals.ipynb\" target=\"_parent\"><img src=\"https://colab.research.google.com/assets/colab-badge.svg\" alt=\"Open In Colab\"/></a>"
      ]
    },
    {
      "cell_type": "markdown",
      "source": [
        "## 00. PyTorch Fundamentals\n",
        "\n",
        "https://www.learnpytorch.io/00_pytorch_fundamentals/"
      ],
      "metadata": {
        "id": "lFdm28Ahu-rD"
      }
    },
    {
      "cell_type": "code",
      "execution_count": 1,
      "metadata": {
        "colab": {
          "base_uri": "https://localhost:8080/"
        },
        "id": "s9JUcpBDgoJK",
        "outputId": "fd4ed73c-e8c0-4bf6-ae6c-31672d29e3fd"
      },
      "outputs": [
        {
          "output_type": "stream",
          "name": "stdout",
          "text": [
            "2.3.0+cu121\n"
          ]
        }
      ],
      "source": [
        "import torch\n",
        "print(torch.__version__)"
      ]
    },
    {
      "cell_type": "markdown",
      "source": [
        "### Introduction to Tensors\n",
        "\n",
        "#### Creating tensors\n",
        "\n",
        "PyTorch tensors are created using `torch.Tensor()`"
      ],
      "metadata": {
        "id": "0qCbd1RSwQND"
      }
    },
    {
      "cell_type": "markdown",
      "source": [
        "#### Scalar"
      ],
      "metadata": {
        "id": "XMld8P3F69KL"
      }
    },
    {
      "cell_type": "code",
      "source": [
        "## scalar\n",
        "scalar = torch.tensor(7)\n",
        "scalar"
      ],
      "metadata": {
        "colab": {
          "base_uri": "https://localhost:8080/"
        },
        "id": "7O8kaBu4hH1R",
        "outputId": "25f8c153-9fff-481b-a934-03df4d135fcc"
      },
      "execution_count": 2,
      "outputs": [
        {
          "output_type": "execute_result",
          "data": {
            "text/plain": [
              "tensor(7)"
            ]
          },
          "metadata": {},
          "execution_count": 2
        }
      ]
    },
    {
      "cell_type": "code",
      "source": [
        "scalar.ndim"
      ],
      "metadata": {
        "colab": {
          "base_uri": "https://localhost:8080/"
        },
        "id": "6oXhcNb4hHyK",
        "outputId": "74b83814-cd2c-425a-f78f-92637ffe3669"
      },
      "execution_count": 3,
      "outputs": [
        {
          "output_type": "execute_result",
          "data": {
            "text/plain": [
              "0"
            ]
          },
          "metadata": {},
          "execution_count": 3
        }
      ]
    },
    {
      "cell_type": "markdown",
      "source": [
        "Scalar is a single number without any dimension."
      ],
      "metadata": {
        "id": "Wbw_VNF8xqj-"
      }
    },
    {
      "cell_type": "code",
      "source": [
        "## get tensor object as python int\n",
        "scalar.item()"
      ],
      "metadata": {
        "colab": {
          "base_uri": "https://localhost:8080/"
        },
        "id": "UcjjDraJhHvg",
        "outputId": "a120ffa5-2c1b-4be7-95c9-99240847e726"
      },
      "execution_count": 4,
      "outputs": [
        {
          "output_type": "execute_result",
          "data": {
            "text/plain": [
              "7"
            ]
          },
          "metadata": {},
          "execution_count": 4
        }
      ]
    },
    {
      "cell_type": "markdown",
      "source": [
        "#### Vector"
      ],
      "metadata": {
        "id": "qIXrBUPQ6_mk"
      }
    },
    {
      "cell_type": "code",
      "source": [
        "## vector\n",
        "vector = torch.tensor([7, 8])\n",
        "vector"
      ],
      "metadata": {
        "colab": {
          "base_uri": "https://localhost:8080/"
        },
        "id": "-gISOzC1hHs4",
        "outputId": "d0f4e925-5147-46ba-be70-82ebcb6beb25"
      },
      "execution_count": 5,
      "outputs": [
        {
          "output_type": "execute_result",
          "data": {
            "text/plain": [
              "tensor([7, 8])"
            ]
          },
          "metadata": {},
          "execution_count": 5
        }
      ]
    },
    {
      "cell_type": "code",
      "source": [
        "vector.ndim"
      ],
      "metadata": {
        "colab": {
          "base_uri": "https://localhost:8080/"
        },
        "id": "P1FUZRf5hHnM",
        "outputId": "ab106371-5e9b-4322-ff64-e9b26c37604d"
      },
      "execution_count": 6,
      "outputs": [
        {
          "output_type": "execute_result",
          "data": {
            "text/plain": [
              "1"
            ]
          },
          "metadata": {},
          "execution_count": 6
        }
      ]
    },
    {
      "cell_type": "code",
      "source": [
        "vector.shape"
      ],
      "metadata": {
        "colab": {
          "base_uri": "https://localhost:8080/"
        },
        "id": "2q6iOFHayFsx",
        "outputId": "d941ac69-c5f2-4f60-a7d3-6d24cd354a61"
      },
      "execution_count": 7,
      "outputs": [
        {
          "output_type": "execute_result",
          "data": {
            "text/plain": [
              "torch.Size([2])"
            ]
          },
          "metadata": {},
          "execution_count": 7
        }
      ]
    },
    {
      "cell_type": "markdown",
      "source": [
        "Vector is like an array with one row and therfore, ndim returns 1 and shape returns 2 as the length of the array."
      ],
      "metadata": {
        "id": "UTSvtJLmyQ2W"
      }
    },
    {
      "cell_type": "markdown",
      "source": [
        "#### Matrix"
      ],
      "metadata": {
        "id": "42gU4lzi7FeK"
      }
    },
    {
      "cell_type": "code",
      "source": [
        "## MATRIX\n",
        "MATRIX = torch.tensor([\n",
        "    [7,8],\n",
        "    [8,9]\n",
        "])\n",
        "MATRIX"
      ],
      "metadata": {
        "colab": {
          "base_uri": "https://localhost:8080/"
        },
        "id": "mrB1lZoiyFqF",
        "outputId": "9aede436-759f-489b-e515-8c4912ec88a4"
      },
      "execution_count": 8,
      "outputs": [
        {
          "output_type": "execute_result",
          "data": {
            "text/plain": [
              "tensor([[7, 8],\n",
              "        [8, 9]])"
            ]
          },
          "metadata": {},
          "execution_count": 8
        }
      ]
    },
    {
      "cell_type": "markdown",
      "source": [
        "All of these (scalar, vector, matrix) are TENSOR datatype"
      ],
      "metadata": {
        "id": "eL0iAUA3y02r"
      }
    },
    {
      "cell_type": "code",
      "source": [
        "MATRIX.ndim"
      ],
      "metadata": {
        "colab": {
          "base_uri": "https://localhost:8080/"
        },
        "id": "DPyydNp3yFne",
        "outputId": "97ac8e44-9996-476a-bf91-99afcc1916ac"
      },
      "execution_count": 9,
      "outputs": [
        {
          "output_type": "execute_result",
          "data": {
            "text/plain": [
              "2"
            ]
          },
          "metadata": {},
          "execution_count": 9
        }
      ]
    },
    {
      "cell_type": "code",
      "source": [
        "MATRIX.shape"
      ],
      "metadata": {
        "colab": {
          "base_uri": "https://localhost:8080/"
        },
        "id": "dE8gqNQKyFkk",
        "outputId": "bd9e0cb8-e3de-4306-898d-875c595348b0"
      },
      "execution_count": 10,
      "outputs": [
        {
          "output_type": "execute_result",
          "data": {
            "text/plain": [
              "torch.Size([2, 2])"
            ]
          },
          "metadata": {},
          "execution_count": 10
        }
      ]
    },
    {
      "cell_type": "code",
      "source": [
        "print(MATRIX[1])\n",
        "print(MATRIX[0])"
      ],
      "metadata": {
        "colab": {
          "base_uri": "https://localhost:8080/"
        },
        "id": "IIbHnZy3yFeV",
        "outputId": "c0fb6fe5-ead6-41f7-baea-d5e5838e6336"
      },
      "execution_count": 11,
      "outputs": [
        {
          "output_type": "stream",
          "name": "stdout",
          "text": [
            "tensor([8, 9])\n",
            "tensor([7, 8])\n"
          ]
        }
      ]
    },
    {
      "cell_type": "markdown",
      "source": [
        "#### Tensor"
      ],
      "metadata": {
        "id": "gkdW5bnE7ITL"
      }
    },
    {
      "cell_type": "code",
      "source": [
        "## TENSOR\n",
        "TENSOR = torch.tensor([\n",
        "    [\n",
        "        [1,2,3],\n",
        "        [3,4,5],\n",
        "        [7,8,9]\n",
        "    ],\n",
        "    [\n",
        "        [5,6,7],\n",
        "        [1,19,20],\n",
        "        [7,8,12]\n",
        "    ]\n",
        "])\n",
        "TENSOR"
      ],
      "metadata": {
        "colab": {
          "base_uri": "https://localhost:8080/"
        },
        "id": "Cn4VOI8BzLGK",
        "outputId": "828450c9-220d-4541-8a39-3e5129cba079"
      },
      "execution_count": 12,
      "outputs": [
        {
          "output_type": "execute_result",
          "data": {
            "text/plain": [
              "tensor([[[ 1,  2,  3],\n",
              "         [ 3,  4,  5],\n",
              "         [ 7,  8,  9]],\n",
              "\n",
              "        [[ 5,  6,  7],\n",
              "         [ 1, 19, 20],\n",
              "         [ 7,  8, 12]]])"
            ]
          },
          "metadata": {},
          "execution_count": 12
        }
      ]
    },
    {
      "cell_type": "code",
      "source": [
        "TENSOR.ndim"
      ],
      "metadata": {
        "colab": {
          "base_uri": "https://localhost:8080/"
        },
        "id": "OcweXug7zLDB",
        "outputId": "dc684531-3b4b-4869-9bd8-b45d105fffc3"
      },
      "execution_count": 13,
      "outputs": [
        {
          "output_type": "execute_result",
          "data": {
            "text/plain": [
              "3"
            ]
          },
          "metadata": {},
          "execution_count": 13
        }
      ]
    },
    {
      "cell_type": "code",
      "source": [
        "TENSOR.shape"
      ],
      "metadata": {
        "colab": {
          "base_uri": "https://localhost:8080/"
        },
        "id": "-RL3AjVCzKoq",
        "outputId": "953fe0cb-707d-4ebc-eaa7-c3d42ff5ef42"
      },
      "execution_count": 14,
      "outputs": [
        {
          "output_type": "execute_result",
          "data": {
            "text/plain": [
              "torch.Size([2, 3, 3])"
            ]
          },
          "metadata": {},
          "execution_count": 14
        }
      ]
    },
    {
      "cell_type": "code",
      "source": [
        "TENSOR[0] ## this is a matrix"
      ],
      "metadata": {
        "colab": {
          "base_uri": "https://localhost:8080/"
        },
        "id": "VcFDafxs0E-q",
        "outputId": "c07b43fa-5907-4fbf-b20c-4ea298281684"
      },
      "execution_count": 15,
      "outputs": [
        {
          "output_type": "execute_result",
          "data": {
            "text/plain": [
              "tensor([[1, 2, 3],\n",
              "        [3, 4, 5],\n",
              "        [7, 8, 9]])"
            ]
          },
          "metadata": {},
          "execution_count": 15
        }
      ]
    },
    {
      "cell_type": "code",
      "source": [
        "TENSOR[0][1] ## this is a vector"
      ],
      "metadata": {
        "colab": {
          "base_uri": "https://localhost:8080/"
        },
        "id": "1KETIQ700E8G",
        "outputId": "a1222b0f-114f-4268-9d7e-6e54b002579f"
      },
      "execution_count": 16,
      "outputs": [
        {
          "output_type": "execute_result",
          "data": {
            "text/plain": [
              "tensor([3, 4, 5])"
            ]
          },
          "metadata": {},
          "execution_count": 16
        }
      ]
    },
    {
      "cell_type": "code",
      "source": [
        "TENSOR[0][1][0] ## this is a scalar"
      ],
      "metadata": {
        "colab": {
          "base_uri": "https://localhost:8080/"
        },
        "id": "20p7_c1e0Edz",
        "outputId": "6e63f4ba-feee-4b08-c01b-9a3b2f20b68c"
      },
      "execution_count": 17,
      "outputs": [
        {
          "output_type": "execute_result",
          "data": {
            "text/plain": [
              "tensor(3)"
            ]
          },
          "metadata": {},
          "execution_count": 17
        }
      ]
    },
    {
      "cell_type": "markdown",
      "source": [
        "TENSOR could be said as list of matrices, MATRIX could be called as list of vectors, and VECTOR could be called a list of scalars.\n",
        "\n",
        "- scalar ndim = 0\n",
        "- vector ndim = 1\n",
        "- matirx ndim = 2\n",
        "- tensor ndim = can be any number from 0 (scalar), 1 (vector), 2 (matrix), ...\n",
        "\n",
        "Notations:\n",
        "- scalar - a\n",
        "- vector - y\n",
        "- matrix - Q\n",
        "- tensor - X"
      ],
      "metadata": {
        "id": "47vEA5J-0YJm"
      }
    },
    {
      "cell_type": "markdown",
      "source": [
        "### Random Tensors\n",
        "\n",
        "Why do we need random tensors?\n",
        "\n",
        "Random Tensors are required as many Neural Networks start with tensors full of random numbers and the adjust those random numbers to better represent the data.\n",
        "\n",
        "`Start with random numbers -> look at data -> update random numbers -> look at data -> update random numbers -> so on`"
      ],
      "metadata": {
        "id": "uyt_7y0T0EWw"
      }
    },
    {
      "cell_type": "code",
      "source": [
        "## Create a random tensor of given size\n",
        "random_tensor = torch.rand(4)\n",
        "random_tensor"
      ],
      "metadata": {
        "colab": {
          "base_uri": "https://localhost:8080/"
        },
        "id": "rbMM8C1R3TkA",
        "outputId": "652825da-d4b3-48d1-c0e7-7bbf1b05e890"
      },
      "execution_count": 18,
      "outputs": [
        {
          "output_type": "execute_result",
          "data": {
            "text/plain": [
              "tensor([0.0207, 0.6221, 0.4514, 0.5946])"
            ]
          },
          "metadata": {},
          "execution_count": 18
        }
      ]
    },
    {
      "cell_type": "code",
      "source": [
        "random_tensor1 = torch.rand(3,4)\n",
        "\n",
        "## can say list of 2 matrices each of 3 rows and 4 columns\n",
        "random_tensor2 = torch.rand(2,3,4)\n",
        "print(random_tensor1)\n",
        "print(\"Number of Dimensions: \", random_tensor1.ndim)\n",
        "print(\"\")\n",
        "print(random_tensor2)\n",
        "print(\"Number of Dimensions: \", random_tensor2.ndim)"
      ],
      "metadata": {
        "colab": {
          "base_uri": "https://localhost:8080/"
        },
        "id": "boIbHDQm3UMf",
        "outputId": "9e3e92d8-b96b-4010-8a3d-faaf42b48471"
      },
      "execution_count": 19,
      "outputs": [
        {
          "output_type": "stream",
          "name": "stdout",
          "text": [
            "tensor([[0.8140, 0.5347, 0.8330, 0.1887],\n",
            "        [0.0958, 0.1890, 0.9658, 0.7309],\n",
            "        [0.3333, 0.7153, 0.8173, 0.2176]])\n",
            "Number of Dimensions:  2\n",
            "\n",
            "tensor([[[0.7569, 0.2556, 0.6601, 0.5953],\n",
            "         [0.0722, 0.9685, 0.3340, 0.1165],\n",
            "         [0.1946, 0.7443, 0.2624, 0.8550]],\n",
            "\n",
            "        [[0.9411, 0.3714, 0.6475, 0.6056],\n",
            "         [0.4312, 0.5635, 0.7783, 0.4224],\n",
            "         [0.5282, 0.7262, 0.1721, 0.3155]]])\n",
            "Number of Dimensions:  3\n"
          ]
        }
      ]
    },
    {
      "cell_type": "markdown",
      "source": [
        "#### Image Random Tensors"
      ],
      "metadata": {
        "id": "yzA1W8YG7MRq"
      }
    },
    {
      "cell_type": "code",
      "source": [
        "## Create a random tensor with similar shape to an image tensor\n",
        "## color channel (RGB), height, width\n",
        "random_image_size_tensor = torch.rand(3, 224, 224) ## 3 matrices 244 x 244\n",
        "print(random_image_size_tensor.shape)\n",
        "print(random_image_size_tensor.ndim)"
      ],
      "metadata": {
        "colab": {
          "base_uri": "https://localhost:8080/"
        },
        "id": "rNKJHk0r3UEx",
        "outputId": "590c34d7-7edb-4daf-899c-eb0aa649cd0b"
      },
      "execution_count": 20,
      "outputs": [
        {
          "output_type": "stream",
          "name": "stdout",
          "text": [
            "torch.Size([3, 224, 224])\n",
            "3\n"
          ]
        }
      ]
    },
    {
      "cell_type": "markdown",
      "source": [
        "Therefore, we can say that any type of data can be converted into tensors."
      ],
      "metadata": {
        "id": "jowcNtdT6dcX"
      }
    },
    {
      "cell_type": "markdown",
      "source": [
        "### Zeros and Ones Tensors"
      ],
      "metadata": {
        "id": "PRhQZ2BU7P5G"
      }
    },
    {
      "cell_type": "code",
      "source": [
        "zeros = torch.zeros(size=(3,4))\n",
        "zeros"
      ],
      "metadata": {
        "colab": {
          "base_uri": "https://localhost:8080/"
        },
        "id": "emcvtZZ43UB3",
        "outputId": "e75b8114-cda5-498b-f4d1-4edf49eb4948"
      },
      "execution_count": 21,
      "outputs": [
        {
          "output_type": "execute_result",
          "data": {
            "text/plain": [
              "tensor([[0., 0., 0., 0.],\n",
              "        [0., 0., 0., 0.],\n",
              "        [0., 0., 0., 0.]])"
            ]
          },
          "metadata": {},
          "execution_count": 21
        }
      ]
    },
    {
      "cell_type": "code",
      "source": [
        "zeros * random_tensor1"
      ],
      "metadata": {
        "colab": {
          "base_uri": "https://localhost:8080/"
        },
        "id": "2Jjz8cHQ7ezU",
        "outputId": "b176fdc7-e2ac-4e12-85f5-923a9e6cf15b"
      },
      "execution_count": 22,
      "outputs": [
        {
          "output_type": "execute_result",
          "data": {
            "text/plain": [
              "tensor([[0., 0., 0., 0.],\n",
              "        [0., 0., 0., 0.],\n",
              "        [0., 0., 0., 0.]])"
            ]
          },
          "metadata": {},
          "execution_count": 22
        }
      ]
    },
    {
      "cell_type": "code",
      "source": [
        "ones = torch.ones(size=(3,4))\n",
        "ones"
      ],
      "metadata": {
        "colab": {
          "base_uri": "https://localhost:8080/"
        },
        "id": "qK4p1gaC7jSK",
        "outputId": "691a5169-0d65-464d-bee3-259ff7773bbf"
      },
      "execution_count": 23,
      "outputs": [
        {
          "output_type": "execute_result",
          "data": {
            "text/plain": [
              "tensor([[1., 1., 1., 1.],\n",
              "        [1., 1., 1., 1.],\n",
              "        [1., 1., 1., 1.]])"
            ]
          },
          "metadata": {},
          "execution_count": 23
        }
      ]
    },
    {
      "cell_type": "markdown",
      "source": [
        "Note that by default tensors have float values."
      ],
      "metadata": {
        "id": "5KYK9pnh7vJ0"
      }
    },
    {
      "cell_type": "code",
      "source": [
        "ones * random_tensor1"
      ],
      "metadata": {
        "colab": {
          "base_uri": "https://localhost:8080/"
        },
        "id": "w42IkoBb7pBT",
        "outputId": "4798ff86-c658-4f1f-bf56-bfd6546a750c"
      },
      "execution_count": 24,
      "outputs": [
        {
          "output_type": "execute_result",
          "data": {
            "text/plain": [
              "tensor([[0.8140, 0.5347, 0.8330, 0.1887],\n",
              "        [0.0958, 0.1890, 0.9658, 0.7309],\n",
              "        [0.3333, 0.7153, 0.8173, 0.2176]])"
            ]
          },
          "metadata": {},
          "execution_count": 24
        }
      ]
    },
    {
      "cell_type": "markdown",
      "source": [
        "### Creating a range of tensors and tensors-like"
      ],
      "metadata": {
        "id": "Ft9IspDF8Gwr"
      }
    },
    {
      "cell_type": "code",
      "source": [
        "torch.arange(1, 11) ## returns tensor from [start, end)"
      ],
      "metadata": {
        "colab": {
          "base_uri": "https://localhost:8080/"
        },
        "id": "pABTEQ_d7o-5",
        "outputId": "f47cf976-3f2b-4c13-a4ad-e0642e0872f2"
      },
      "execution_count": 25,
      "outputs": [
        {
          "output_type": "execute_result",
          "data": {
            "text/plain": [
              "tensor([ 1,  2,  3,  4,  5,  6,  7,  8,  9, 10])"
            ]
          },
          "metadata": {},
          "execution_count": 25
        }
      ]
    },
    {
      "cell_type": "code",
      "source": [
        "torch.arange(start=1, end=1000, step=77)"
      ],
      "metadata": {
        "colab": {
          "base_uri": "https://localhost:8080/"
        },
        "id": "Dcnivx9s7o8X",
        "outputId": "0e2d34fe-c3a3-4293-93dd-91704bf86824"
      },
      "execution_count": 26,
      "outputs": [
        {
          "output_type": "execute_result",
          "data": {
            "text/plain": [
              "tensor([  1,  78, 155, 232, 309, 386, 463, 540, 617, 694, 771, 848, 925])"
            ]
          },
          "metadata": {},
          "execution_count": 26
        }
      ]
    },
    {
      "cell_type": "code",
      "source": [
        "## Creating tensor-like\n",
        "## to get say a zeros tensor of the same shape as other tensor\n",
        "## without mentioning the shape of input tensor\n",
        "one_to_ten = torch.arange(1, 11)\n",
        "ten_zeros = torch.zeros_like(input=one_to_ten)\n",
        "ten_zeros"
      ],
      "metadata": {
        "colab": {
          "base_uri": "https://localhost:8080/"
        },
        "id": "IMzU6oMS7ozI",
        "outputId": "dce87732-6eef-4195-f1d4-6a5b97862275"
      },
      "execution_count": 27,
      "outputs": [
        {
          "output_type": "execute_result",
          "data": {
            "text/plain": [
              "tensor([0, 0, 0, 0, 0, 0, 0, 0, 0, 0])"
            ]
          },
          "metadata": {},
          "execution_count": 27
        }
      ]
    },
    {
      "cell_type": "code",
      "source": [
        "random_tensor1"
      ],
      "metadata": {
        "colab": {
          "base_uri": "https://localhost:8080/"
        },
        "id": "yBCMicj6-IgC",
        "outputId": "4d45e5e9-ae51-4ba1-9bd5-959c42059c6e"
      },
      "execution_count": 28,
      "outputs": [
        {
          "output_type": "execute_result",
          "data": {
            "text/plain": [
              "tensor([[0.8140, 0.5347, 0.8330, 0.1887],\n",
              "        [0.0958, 0.1890, 0.9658, 0.7309],\n",
              "        [0.3333, 0.7153, 0.8173, 0.2176]])"
            ]
          },
          "metadata": {},
          "execution_count": 28
        }
      ]
    },
    {
      "cell_type": "code",
      "source": [
        "## get 0 tensor as the shape of random_tensor1\n",
        "torch.zeros_like(random_tensor1)"
      ],
      "metadata": {
        "colab": {
          "base_uri": "https://localhost:8080/"
        },
        "id": "AwpD-JLO-KO2",
        "outputId": "bca1736b-369b-4fed-b8f7-ca7dedf6a97a"
      },
      "execution_count": 29,
      "outputs": [
        {
          "output_type": "execute_result",
          "data": {
            "text/plain": [
              "tensor([[0., 0., 0., 0.],\n",
              "        [0., 0., 0., 0.],\n",
              "        [0., 0., 0., 0.]])"
            ]
          },
          "metadata": {},
          "execution_count": 29
        }
      ]
    },
    {
      "cell_type": "markdown",
      "source": [
        "### Tensor Datatype\n",
        "\n",
        "3 big errors you'll run into in PyTorch and Deep Learning:\n",
        "- dtype - Tensor datatype\n",
        "\n",
        " float32 (takes 32 bits of memory) is the default datatype. If we are ready to give up some precision we can go for float16 as it can compute faster. If we need more precision we can go for float64\n",
        "\n",
        " `tensor.dtype`\n",
        "- device\n",
        "\n",
        "  default - \"cpu\", can use \"cuda\", the tensors need to be on same device, like one tensor is created on GPU for faster calculations and one is created on CPU, this will create an error.\n",
        "\n",
        "  `tensor.device`\n",
        "- tensor shape\n",
        "\n",
        "  `tensor.shape`"
      ],
      "metadata": {
        "id": "Iz-Zkh95_rnp"
      }
    },
    {
      "cell_type": "code",
      "source": [
        "float_32_tensor = torch.tensor([3.0,6.0,9.0],\n",
        "                               dtype=None, ## data type\n",
        "                               device=None, ## device of tensor\n",
        "                               requires_grad=False ## track gradients with tensor operations\n",
        "                               )"
      ],
      "metadata": {
        "id": "W53MH9_x-WMU"
      },
      "execution_count": 30,
      "outputs": []
    },
    {
      "cell_type": "code",
      "source": [
        "float_32_tensor.dtype"
      ],
      "metadata": {
        "id": "KquQjkMR-WJM",
        "colab": {
          "base_uri": "https://localhost:8080/"
        },
        "outputId": "0dc74ed3-e992-4fa0-f9e4-8aa745d2f00c"
      },
      "execution_count": 31,
      "outputs": [
        {
          "output_type": "execute_result",
          "data": {
            "text/plain": [
              "torch.float32"
            ]
          },
          "metadata": {},
          "execution_count": 31
        }
      ]
    },
    {
      "cell_type": "markdown",
      "source": [
        "Even when we said dtype as None, it still makes it to default float32"
      ],
      "metadata": {
        "id": "x6mUXJV9Fjlr"
      }
    },
    {
      "cell_type": "code",
      "source": [
        "## Convert float32 datatype to float16\n",
        "float_16_tensor = float_32_tensor.type(torch.float16)\n",
        "float_16_tensor.dtype"
      ],
      "metadata": {
        "id": "75j143-b-V-4",
        "colab": {
          "base_uri": "https://localhost:8080/"
        },
        "outputId": "4bb51226-64d3-4817-c6de-3d02942ffb50"
      },
      "execution_count": 32,
      "outputs": [
        {
          "output_type": "execute_result",
          "data": {
            "text/plain": [
              "torch.float16"
            ]
          },
          "metadata": {},
          "execution_count": 32
        }
      ]
    },
    {
      "cell_type": "code",
      "source": [
        "float_16_tensor * float_32_tensor"
      ],
      "metadata": {
        "colab": {
          "base_uri": "https://localhost:8080/"
        },
        "id": "PGgOQDhrDGzJ",
        "outputId": "4b0bba94-4410-403e-97c4-f40b06648ebc"
      },
      "execution_count": 33,
      "outputs": [
        {
          "output_type": "execute_result",
          "data": {
            "text/plain": [
              "tensor([ 9., 36., 81.])"
            ]
          },
          "metadata": {},
          "execution_count": 33
        }
      ]
    },
    {
      "cell_type": "markdown",
      "source": [
        "INTERESTING!! This works fine.\n",
        "\n",
        "Just keep in mind this might create a problem in some cases."
      ],
      "metadata": {
        "id": "ZTlX5MzNDLtl"
      }
    },
    {
      "cell_type": "markdown",
      "source": [
        "#### Getting Tensor attributes - Data Type, Shape, Device"
      ],
      "metadata": {
        "id": "Vi48aE4jEpgy"
      }
    },
    {
      "cell_type": "code",
      "source": [
        "some_tensor = torch.rand(3,4)\n",
        "some_tensor"
      ],
      "metadata": {
        "colab": {
          "base_uri": "https://localhost:8080/"
        },
        "id": "gbrrn0xfDGt9",
        "outputId": "e1826f83-23cc-44e3-a57a-1e18e9b3e639"
      },
      "execution_count": 34,
      "outputs": [
        {
          "output_type": "execute_result",
          "data": {
            "text/plain": [
              "tensor([[0.9618, 0.8864, 0.6898, 0.3106],\n",
              "        [0.9678, 0.2270, 0.6549, 0.4010],\n",
              "        [0.7932, 0.4998, 0.6382, 0.1778]])"
            ]
          },
          "metadata": {},
          "execution_count": 34
        }
      ]
    },
    {
      "cell_type": "code",
      "source": [
        "print(some_tensor)\n",
        "print(f\"Data Type: {some_tensor.dtype}\")\n",
        "print(f\"Shape: {some_tensor.shape}\")\n",
        "print(f\"Device: {some_tensor.device}\")"
      ],
      "metadata": {
        "colab": {
          "base_uri": "https://localhost:8080/"
        },
        "id": "UwnR0RTzDGrF",
        "outputId": "abf0c8ab-6255-4ae0-de2b-b95452674281"
      },
      "execution_count": 35,
      "outputs": [
        {
          "output_type": "stream",
          "name": "stdout",
          "text": [
            "tensor([[0.9618, 0.8864, 0.6898, 0.3106],\n",
            "        [0.9678, 0.2270, 0.6549, 0.4010],\n",
            "        [0.7932, 0.4998, 0.6382, 0.1778]])\n",
            "Data Type: torch.float32\n",
            "Size: torch.Size([3, 4])\n",
            "Device: cpu\n"
          ]
        }
      ]
    },
    {
      "cell_type": "markdown",
      "source": [
        "### Manipulating Tensors (tensor operations)\n",
        "\n",
        "Tensor operation include:\n",
        "- Addition: `+` or `torch.add`\n",
        "- Subtraction: `-` or `torch.subtract`\n",
        "- Multiplication (element-wise): `*` or `torch.mul`\n",
        "- Division: `/` or `torch.divide`\n",
        "- Matrix Multiplication"
      ],
      "metadata": {
        "id": "4yjWAdJJFHFi"
      }
    },
    {
      "cell_type": "code",
      "source": [
        "## create a tensor and add 10 to it\n",
        "tensor = torch.tensor([1,2,3])\n",
        "tensor + 10"
      ],
      "metadata": {
        "colab": {
          "base_uri": "https://localhost:8080/"
        },
        "id": "aGibNZUdDGoZ",
        "outputId": "d925ecfd-ce1a-4c7c-f3fa-b1ac4aa95066"
      },
      "execution_count": 36,
      "outputs": [
        {
          "output_type": "execute_result",
          "data": {
            "text/plain": [
              "tensor([11, 12, 13])"
            ]
          },
          "metadata": {},
          "execution_count": 36
        }
      ]
    },
    {
      "cell_type": "code",
      "source": [
        "## using pytorch functions add\n",
        "torch.add(tensor, 10)"
      ],
      "metadata": {
        "colab": {
          "base_uri": "https://localhost:8080/"
        },
        "id": "Qtek0Bt2F_Sa",
        "outputId": "3deb10f0-baf4-4bc3-9a70-091d26cfc428"
      },
      "execution_count": 39,
      "outputs": [
        {
          "output_type": "execute_result",
          "data": {
            "text/plain": [
              "tensor([11, 12, 13])"
            ]
          },
          "metadata": {},
          "execution_count": 39
        }
      ]
    },
    {
      "cell_type": "code",
      "source": [
        "## subtract a tensor by 10\n",
        "tensor - 10"
      ],
      "metadata": {
        "colab": {
          "base_uri": "https://localhost:8080/"
        },
        "id": "71AsV_UGFtGh",
        "outputId": "3629924d-ea93-4153-e0be-acaa4caf0899"
      },
      "execution_count": 38,
      "outputs": [
        {
          "output_type": "execute_result",
          "data": {
            "text/plain": [
              "tensor([-9, -8, -7])"
            ]
          },
          "metadata": {},
          "execution_count": 38
        }
      ]
    },
    {
      "cell_type": "code",
      "source": [
        "## using function subtract\n",
        "torch.subtract(tensor, 10)"
      ],
      "metadata": {
        "colab": {
          "base_uri": "https://localhost:8080/"
        },
        "id": "Echyd8b_GHTJ",
        "outputId": "cf85316f-1fd9-408d-e803-bdb353d69e99"
      },
      "execution_count": 40,
      "outputs": [
        {
          "output_type": "execute_result",
          "data": {
            "text/plain": [
              "tensor([-9, -8, -7])"
            ]
          },
          "metadata": {},
          "execution_count": 40
        }
      ]
    },
    {
      "cell_type": "code",
      "source": [
        "## multiply tensor by 10\n",
        "tensor * 10"
      ],
      "metadata": {
        "colab": {
          "base_uri": "https://localhost:8080/"
        },
        "id": "reDpAU4cDGat",
        "outputId": "6a01ab25-9a95-4337-c2a1-109ad2e3196c"
      },
      "execution_count": 37,
      "outputs": [
        {
          "output_type": "execute_result",
          "data": {
            "text/plain": [
              "tensor([10, 20, 30])"
            ]
          },
          "metadata": {},
          "execution_count": 37
        }
      ]
    },
    {
      "cell_type": "code",
      "source": [
        "## using function mul\n",
        "tensor.mul(10)"
      ],
      "metadata": {
        "colab": {
          "base_uri": "https://localhost:8080/"
        },
        "id": "wOFh4WgkFsLU",
        "outputId": "2eaedd77-4e14-4ec4-e263-8879229acdc1"
      },
      "execution_count": 41,
      "outputs": [
        {
          "output_type": "execute_result",
          "data": {
            "text/plain": [
              "tensor([10, 20, 30])"
            ]
          },
          "metadata": {},
          "execution_count": 41
        }
      ]
    },
    {
      "cell_type": "code",
      "source": [
        "## divide tensor by 10\n",
        "tensor / 10"
      ],
      "metadata": {
        "colab": {
          "base_uri": "https://localhost:8080/"
        },
        "id": "LkZBfl0BGYbW",
        "outputId": "af4e29f7-0679-4e2c-b5af-5626f6c8885f"
      },
      "execution_count": 42,
      "outputs": [
        {
          "output_type": "execute_result",
          "data": {
            "text/plain": [
              "tensor([0.1000, 0.2000, 0.3000])"
            ]
          },
          "metadata": {},
          "execution_count": 42
        }
      ]
    },
    {
      "cell_type": "code",
      "source": [
        "## using function divide\n",
        "torch.divide(tensor, 10)"
      ],
      "metadata": {
        "colab": {
          "base_uri": "https://localhost:8080/"
        },
        "id": "x1xz6k5jGdj5",
        "outputId": "d2e447dd-c349-435d-91d1-f6acc97b648c"
      },
      "execution_count": 43,
      "outputs": [
        {
          "output_type": "execute_result",
          "data": {
            "text/plain": [
              "tensor([0.1000, 0.2000, 0.3000])"
            ]
          },
          "metadata": {},
          "execution_count": 43
        }
      ]
    },
    {
      "cell_type": "markdown",
      "source": [
        "#### Matrix Multiplication\n",
        "\n",
        "Two ways of performing multiplication in in NN and DL:\n",
        "- Element-wise multiplication `torch.mul(tensor, tensor)`\n",
        "- Matrix multiplication (dot product) `torch.matmul(tensor, tensor)` or `@`\n",
        "\n",
        "Matrix Multiplication rules:\n",
        "1. **Inner dimensions** must match:\n",
        "* `(3,2) @ (3,2)` won't work\n",
        "* `(3,2) @ (2,3)` will work\n",
        "* `(2,3) @ (3,2)` will work\n",
        "\n",
        "2. Resulting matrix has the shape of **Outer Dimensions**:\n",
        "* `(3,2) @ (2,3)` => `(3,3)`\n",
        "* `(2,3) @ (3,2)` => `(2,2)`"
      ],
      "metadata": {
        "id": "vFXq_W1jG8Ho"
      }
    },
    {
      "cell_type": "code",
      "source": [
        "tensor"
      ],
      "metadata": {
        "colab": {
          "base_uri": "https://localhost:8080/"
        },
        "id": "SP4zgBzvG79Y",
        "outputId": "10b86b95-de3f-4b34-f6d4-ad9785acf986"
      },
      "execution_count": 44,
      "outputs": [
        {
          "output_type": "execute_result",
          "data": {
            "text/plain": [
              "tensor([1, 2, 3])"
            ]
          },
          "metadata": {},
          "execution_count": 44
        }
      ]
    },
    {
      "cell_type": "code",
      "source": [
        "## Element-wise multiplication\n",
        "torch.mul(tensor, tensor)"
      ],
      "metadata": {
        "colab": {
          "base_uri": "https://localhost:8080/"
        },
        "id": "3c3BxuUBG76f",
        "outputId": "af21b09f-2434-4026-d47c-622622a58149"
      },
      "execution_count": 45,
      "outputs": [
        {
          "output_type": "execute_result",
          "data": {
            "text/plain": [
              "tensor([1, 4, 9])"
            ]
          },
          "metadata": {},
          "execution_count": 45
        }
      ]
    },
    {
      "cell_type": "code",
      "source": [
        "## Matrix-Multiplication\n",
        "torch.matmul(tensor, tensor)"
      ],
      "metadata": {
        "colab": {
          "base_uri": "https://localhost:8080/"
        },
        "id": "N5WgfgxtG72y",
        "outputId": "ee5494ca-417a-41d4-eb29-dc6608501da4"
      },
      "execution_count": 46,
      "outputs": [
        {
          "output_type": "execute_result",
          "data": {
            "text/plain": [
              "tensor(14)"
            ]
          },
          "metadata": {},
          "execution_count": 46
        }
      ]
    },
    {
      "cell_type": "code",
      "source": [
        "## THIS WON'T WORK\n",
        "torch.matmul(torch.rand(3,2), torch.rand(3,2))"
      ],
      "metadata": {
        "colab": {
          "base_uri": "https://localhost:8080/",
          "height": 165
        },
        "id": "okxKi7qoG7zw",
        "outputId": "ee9fce92-535e-499b-ebf4-a03182380876"
      },
      "execution_count": 47,
      "outputs": [
        {
          "output_type": "error",
          "ename": "RuntimeError",
          "evalue": "mat1 and mat2 shapes cannot be multiplied (3x2 and 3x2)",
          "traceback": [
            "\u001b[0;31m---------------------------------------------------------------------------\u001b[0m",
            "\u001b[0;31mRuntimeError\u001b[0m                              Traceback (most recent call last)",
            "\u001b[0;32m<ipython-input-47-20017f519f4a>\u001b[0m in \u001b[0;36m<cell line: 2>\u001b[0;34m()\u001b[0m\n\u001b[1;32m      1\u001b[0m \u001b[0;31m## THIS WON'T WORK\u001b[0m\u001b[0;34m\u001b[0m\u001b[0;34m\u001b[0m\u001b[0m\n\u001b[0;32m----> 2\u001b[0;31m \u001b[0mtorch\u001b[0m\u001b[0;34m.\u001b[0m\u001b[0mmatmul\u001b[0m\u001b[0;34m(\u001b[0m\u001b[0mtorch\u001b[0m\u001b[0;34m.\u001b[0m\u001b[0mrand\u001b[0m\u001b[0;34m(\u001b[0m\u001b[0;36m3\u001b[0m\u001b[0;34m,\u001b[0m\u001b[0;36m2\u001b[0m\u001b[0;34m)\u001b[0m\u001b[0;34m,\u001b[0m \u001b[0mtorch\u001b[0m\u001b[0;34m.\u001b[0m\u001b[0mrand\u001b[0m\u001b[0;34m(\u001b[0m\u001b[0;36m3\u001b[0m\u001b[0;34m,\u001b[0m\u001b[0;36m2\u001b[0m\u001b[0;34m)\u001b[0m\u001b[0;34m)\u001b[0m\u001b[0;34m\u001b[0m\u001b[0;34m\u001b[0m\u001b[0m\n\u001b[0m",
            "\u001b[0;31mRuntimeError\u001b[0m: mat1 and mat2 shapes cannot be multiplied (3x2 and 3x2)"
          ]
        }
      ]
    },
    {
      "cell_type": "code",
      "source": [
        "## Resulting matrix will be 2x2\n",
        "torch.matmul(torch.rand(2,3), torch.rand(3,2))"
      ],
      "metadata": {
        "colab": {
          "base_uri": "https://localhost:8080/"
        },
        "id": "c6bohPshG7rC",
        "outputId": "784297ab-1427-485d-f03f-f08a56e90ee9"
      },
      "execution_count": 48,
      "outputs": [
        {
          "output_type": "execute_result",
          "data": {
            "text/plain": [
              "tensor([[0.5715, 1.2630],\n",
              "        [0.3330, 0.8585]])"
            ]
          },
          "metadata": {},
          "execution_count": 48
        }
      ]
    }
  ]
}
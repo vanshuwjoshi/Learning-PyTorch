{
  "nbformat": 4,
  "nbformat_minor": 0,
  "metadata": {
    "colab": {
      "provenance": [],
      "gpuType": "T4",
      "toc_visible": true,
      "authorship_tag": "ABX9TyMO98TUM7tNSsW3VTnhWMGu",
      "include_colab_link": true
    },
    "kernelspec": {
      "name": "python3",
      "display_name": "Python 3"
    },
    "language_info": {
      "name": "python"
    }
  },
  "cells": [
    {
      "cell_type": "markdown",
      "metadata": {
        "id": "view-in-github",
        "colab_type": "text"
      },
      "source": [
        "<a href=\"https://colab.research.google.com/github/vanshuwjoshi/Learning-PyTorch/blob/main/00_pytorch_fundamentals.ipynb\" target=\"_parent\"><img src=\"https://colab.research.google.com/assets/colab-badge.svg\" alt=\"Open In Colab\"/></a>"
      ]
    },
    {
      "cell_type": "markdown",
      "source": [
        "## 00. PyTorch Fundamentals\n",
        "\n",
        "https://www.learnpytorch.io/00_pytorch_fundamentals/"
      ],
      "metadata": {
        "id": "lFdm28Ahu-rD"
      }
    },
    {
      "cell_type": "code",
      "execution_count": 1,
      "metadata": {
        "colab": {
          "base_uri": "https://localhost:8080/"
        },
        "id": "s9JUcpBDgoJK",
        "outputId": "7f150aa6-b812-47e4-83bd-cac50f55db22"
      },
      "outputs": [
        {
          "output_type": "stream",
          "name": "stdout",
          "text": [
            "2.3.0+cu121\n"
          ]
        }
      ],
      "source": [
        "import torch\n",
        "print(torch.__version__)"
      ]
    },
    {
      "cell_type": "markdown",
      "source": [
        "### Introduction to Tensors\n",
        "\n",
        "#### Creating tensors\n",
        "\n",
        "PyTorch tensors are created using `torch.Tensor()`"
      ],
      "metadata": {
        "id": "0qCbd1RSwQND"
      }
    },
    {
      "cell_type": "markdown",
      "source": [
        "#### Scalar"
      ],
      "metadata": {
        "id": "XMld8P3F69KL"
      }
    },
    {
      "cell_type": "code",
      "source": [
        "## scalar\n",
        "scalar = torch.tensor(7)\n",
        "scalar"
      ],
      "metadata": {
        "colab": {
          "base_uri": "https://localhost:8080/"
        },
        "id": "7O8kaBu4hH1R",
        "outputId": "1849555e-8bcf-42d7-d7e7-0cae0c21d833"
      },
      "execution_count": 2,
      "outputs": [
        {
          "output_type": "execute_result",
          "data": {
            "text/plain": [
              "tensor(7)"
            ]
          },
          "metadata": {},
          "execution_count": 2
        }
      ]
    },
    {
      "cell_type": "code",
      "source": [
        "scalar.ndim"
      ],
      "metadata": {
        "colab": {
          "base_uri": "https://localhost:8080/"
        },
        "id": "6oXhcNb4hHyK",
        "outputId": "48a3c563-8c0c-4b52-e73c-9a17747087f1"
      },
      "execution_count": 3,
      "outputs": [
        {
          "output_type": "execute_result",
          "data": {
            "text/plain": [
              "0"
            ]
          },
          "metadata": {},
          "execution_count": 3
        }
      ]
    },
    {
      "cell_type": "markdown",
      "source": [
        "Scalar is a single number without any dimension."
      ],
      "metadata": {
        "id": "Wbw_VNF8xqj-"
      }
    },
    {
      "cell_type": "code",
      "source": [
        "## get tensor object as python int\n",
        "scalar.item()"
      ],
      "metadata": {
        "colab": {
          "base_uri": "https://localhost:8080/"
        },
        "id": "UcjjDraJhHvg",
        "outputId": "a94f26b9-22cf-443a-8967-e562a859484c"
      },
      "execution_count": 4,
      "outputs": [
        {
          "output_type": "execute_result",
          "data": {
            "text/plain": [
              "7"
            ]
          },
          "metadata": {},
          "execution_count": 4
        }
      ]
    },
    {
      "cell_type": "markdown",
      "source": [
        "#### Vector"
      ],
      "metadata": {
        "id": "qIXrBUPQ6_mk"
      }
    },
    {
      "cell_type": "code",
      "source": [
        "## vector\n",
        "vector = torch.tensor([7, 8])\n",
        "vector"
      ],
      "metadata": {
        "colab": {
          "base_uri": "https://localhost:8080/"
        },
        "id": "-gISOzC1hHs4",
        "outputId": "cf82bf84-3a72-4549-d832-423dd31a9f29"
      },
      "execution_count": 5,
      "outputs": [
        {
          "output_type": "execute_result",
          "data": {
            "text/plain": [
              "tensor([7, 8])"
            ]
          },
          "metadata": {},
          "execution_count": 5
        }
      ]
    },
    {
      "cell_type": "code",
      "source": [
        "vector.ndim"
      ],
      "metadata": {
        "colab": {
          "base_uri": "https://localhost:8080/"
        },
        "id": "P1FUZRf5hHnM",
        "outputId": "3d07fa27-4761-481b-f10d-90eb2b8aacf7"
      },
      "execution_count": 6,
      "outputs": [
        {
          "output_type": "execute_result",
          "data": {
            "text/plain": [
              "1"
            ]
          },
          "metadata": {},
          "execution_count": 6
        }
      ]
    },
    {
      "cell_type": "code",
      "source": [
        "vector.shape"
      ],
      "metadata": {
        "colab": {
          "base_uri": "https://localhost:8080/"
        },
        "id": "2q6iOFHayFsx",
        "outputId": "1e92ec05-852e-425c-8ac3-c32dca736457"
      },
      "execution_count": 7,
      "outputs": [
        {
          "output_type": "execute_result",
          "data": {
            "text/plain": [
              "torch.Size([2])"
            ]
          },
          "metadata": {},
          "execution_count": 7
        }
      ]
    },
    {
      "cell_type": "markdown",
      "source": [
        "Vector is like an array with one row and therfore, ndim returns 1 and shape returns 2 as the length of the array."
      ],
      "metadata": {
        "id": "UTSvtJLmyQ2W"
      }
    },
    {
      "cell_type": "markdown",
      "source": [
        "#### Matrix"
      ],
      "metadata": {
        "id": "42gU4lzi7FeK"
      }
    },
    {
      "cell_type": "code",
      "source": [
        "## MATRIX\n",
        "MATRIX = torch.tensor([\n",
        "    [7,8],\n",
        "    [8,9]\n",
        "])\n",
        "MATRIX"
      ],
      "metadata": {
        "colab": {
          "base_uri": "https://localhost:8080/"
        },
        "id": "mrB1lZoiyFqF",
        "outputId": "18326940-ba4f-4375-c278-e6fa47d9fef5"
      },
      "execution_count": 8,
      "outputs": [
        {
          "output_type": "execute_result",
          "data": {
            "text/plain": [
              "tensor([[7, 8],\n",
              "        [8, 9]])"
            ]
          },
          "metadata": {},
          "execution_count": 8
        }
      ]
    },
    {
      "cell_type": "markdown",
      "source": [
        "All of these (scalar, vector, matrix) are TENSOR datatype"
      ],
      "metadata": {
        "id": "eL0iAUA3y02r"
      }
    },
    {
      "cell_type": "code",
      "source": [
        "MATRIX.ndim"
      ],
      "metadata": {
        "colab": {
          "base_uri": "https://localhost:8080/"
        },
        "id": "DPyydNp3yFne",
        "outputId": "9fc7e905-ed0a-47e4-9722-c9ff2caf8e0b"
      },
      "execution_count": 9,
      "outputs": [
        {
          "output_type": "execute_result",
          "data": {
            "text/plain": [
              "2"
            ]
          },
          "metadata": {},
          "execution_count": 9
        }
      ]
    },
    {
      "cell_type": "code",
      "source": [
        "MATRIX.shape"
      ],
      "metadata": {
        "colab": {
          "base_uri": "https://localhost:8080/"
        },
        "id": "dE8gqNQKyFkk",
        "outputId": "054877ec-2b01-41a7-f85c-0cad6c0785b9"
      },
      "execution_count": 10,
      "outputs": [
        {
          "output_type": "execute_result",
          "data": {
            "text/plain": [
              "torch.Size([2, 2])"
            ]
          },
          "metadata": {},
          "execution_count": 10
        }
      ]
    },
    {
      "cell_type": "code",
      "source": [
        "print(MATRIX[1])\n",
        "print(MATRIX[0])"
      ],
      "metadata": {
        "colab": {
          "base_uri": "https://localhost:8080/"
        },
        "id": "IIbHnZy3yFeV",
        "outputId": "aaca03f1-6ef7-40ac-8516-62be04172b63"
      },
      "execution_count": 11,
      "outputs": [
        {
          "output_type": "stream",
          "name": "stdout",
          "text": [
            "tensor([8, 9])\n",
            "tensor([7, 8])\n"
          ]
        }
      ]
    },
    {
      "cell_type": "markdown",
      "source": [
        "#### Tensor"
      ],
      "metadata": {
        "id": "gkdW5bnE7ITL"
      }
    },
    {
      "cell_type": "code",
      "source": [
        "## TENSOR\n",
        "TENSOR = torch.tensor([\n",
        "    [\n",
        "        [1,2,3],\n",
        "        [3,4,5],\n",
        "        [7,8,9]\n",
        "    ],\n",
        "    [\n",
        "        [5,6,7],\n",
        "        [1,19,20],\n",
        "        [7,8,12]\n",
        "    ]\n",
        "])\n",
        "TENSOR"
      ],
      "metadata": {
        "colab": {
          "base_uri": "https://localhost:8080/"
        },
        "id": "Cn4VOI8BzLGK",
        "outputId": "711016af-b4fd-4fdd-c530-445e4f2aceaf"
      },
      "execution_count": 12,
      "outputs": [
        {
          "output_type": "execute_result",
          "data": {
            "text/plain": [
              "tensor([[[ 1,  2,  3],\n",
              "         [ 3,  4,  5],\n",
              "         [ 7,  8,  9]],\n",
              "\n",
              "        [[ 5,  6,  7],\n",
              "         [ 1, 19, 20],\n",
              "         [ 7,  8, 12]]])"
            ]
          },
          "metadata": {},
          "execution_count": 12
        }
      ]
    },
    {
      "cell_type": "code",
      "source": [
        "TENSOR.ndim"
      ],
      "metadata": {
        "colab": {
          "base_uri": "https://localhost:8080/"
        },
        "id": "OcweXug7zLDB",
        "outputId": "0573261f-0307-4334-8ea1-483895c8609f"
      },
      "execution_count": 13,
      "outputs": [
        {
          "output_type": "execute_result",
          "data": {
            "text/plain": [
              "3"
            ]
          },
          "metadata": {},
          "execution_count": 13
        }
      ]
    },
    {
      "cell_type": "code",
      "source": [
        "TENSOR.shape"
      ],
      "metadata": {
        "colab": {
          "base_uri": "https://localhost:8080/"
        },
        "id": "-RL3AjVCzKoq",
        "outputId": "d05ad914-b871-4e1e-ba17-e3b46f9e9faf"
      },
      "execution_count": 14,
      "outputs": [
        {
          "output_type": "execute_result",
          "data": {
            "text/plain": [
              "torch.Size([2, 3, 3])"
            ]
          },
          "metadata": {},
          "execution_count": 14
        }
      ]
    },
    {
      "cell_type": "code",
      "source": [
        "TENSOR[0] ## this is a matrix"
      ],
      "metadata": {
        "colab": {
          "base_uri": "https://localhost:8080/"
        },
        "id": "VcFDafxs0E-q",
        "outputId": "043e834e-83d9-4dcd-90db-cba075ebe702"
      },
      "execution_count": 15,
      "outputs": [
        {
          "output_type": "execute_result",
          "data": {
            "text/plain": [
              "tensor([[1, 2, 3],\n",
              "        [3, 4, 5],\n",
              "        [7, 8, 9]])"
            ]
          },
          "metadata": {},
          "execution_count": 15
        }
      ]
    },
    {
      "cell_type": "code",
      "source": [
        "TENSOR[0][1] ## this is a vector"
      ],
      "metadata": {
        "colab": {
          "base_uri": "https://localhost:8080/"
        },
        "id": "1KETIQ700E8G",
        "outputId": "053ffdd1-f7a7-44f8-ff04-16e8a429efca"
      },
      "execution_count": 16,
      "outputs": [
        {
          "output_type": "execute_result",
          "data": {
            "text/plain": [
              "tensor([3, 4, 5])"
            ]
          },
          "metadata": {},
          "execution_count": 16
        }
      ]
    },
    {
      "cell_type": "code",
      "source": [
        "TENSOR[0][1][0] ## this is a scalar"
      ],
      "metadata": {
        "colab": {
          "base_uri": "https://localhost:8080/"
        },
        "id": "20p7_c1e0Edz",
        "outputId": "b5507132-a192-4d84-c08c-7dd0e04cf8e0"
      },
      "execution_count": 17,
      "outputs": [
        {
          "output_type": "execute_result",
          "data": {
            "text/plain": [
              "tensor(3)"
            ]
          },
          "metadata": {},
          "execution_count": 17
        }
      ]
    },
    {
      "cell_type": "markdown",
      "source": [
        "TENSOR could be said as list of matrices, MATRIX could be called as list of vectors, and VECTOR could be called a list of scalars.\n",
        "\n",
        "- scalar ndim = 0\n",
        "- vector ndim = 1\n",
        "- matirx ndim = 2\n",
        "- tensor ndim = can be any number from 0 (scalar), 1 (vector), 2 (matrix), ...\n",
        "\n",
        "Notations:\n",
        "- scalar - a\n",
        "- vector - y\n",
        "- matrix - Q\n",
        "- tensor - X"
      ],
      "metadata": {
        "id": "47vEA5J-0YJm"
      }
    },
    {
      "cell_type": "markdown",
      "source": [
        "### Random Tensors\n",
        "\n",
        "Why do we need random tensors?\n",
        "\n",
        "Random Tensors are required as many Neural Networks start with tensors full of random numbers and the adjust those random numbers to better represent the data.\n",
        "\n",
        "`Start with random numbers -> look at data -> update random numbers -> look at data -> update random numbers -> so on`"
      ],
      "metadata": {
        "id": "uyt_7y0T0EWw"
      }
    },
    {
      "cell_type": "code",
      "source": [
        "## Create a random tensor of given size\n",
        "random_tensor = torch.rand(4)\n",
        "random_tensor"
      ],
      "metadata": {
        "colab": {
          "base_uri": "https://localhost:8080/"
        },
        "id": "rbMM8C1R3TkA",
        "outputId": "3e996a28-0e55-4390-ddd2-910fb1fad160"
      },
      "execution_count": 18,
      "outputs": [
        {
          "output_type": "execute_result",
          "data": {
            "text/plain": [
              "tensor([0.7289, 0.6692, 0.0450, 0.4414])"
            ]
          },
          "metadata": {},
          "execution_count": 18
        }
      ]
    },
    {
      "cell_type": "code",
      "source": [
        "random_tensor1 = torch.rand(3,4)\n",
        "\n",
        "## can say list of 2 matrices each of 3 rows and 4 columns\n",
        "random_tensor2 = torch.rand(2,3,4)\n",
        "print(random_tensor1)\n",
        "print(\"Number of Dimensions: \", random_tensor1.ndim)\n",
        "print(\"\")\n",
        "print(random_tensor2)\n",
        "print(\"Number of Dimensions: \", random_tensor2.ndim)"
      ],
      "metadata": {
        "colab": {
          "base_uri": "https://localhost:8080/"
        },
        "id": "boIbHDQm3UMf",
        "outputId": "369d8fa2-8c91-4377-e2bd-94a827b09d8c"
      },
      "execution_count": 19,
      "outputs": [
        {
          "output_type": "stream",
          "name": "stdout",
          "text": [
            "tensor([[0.0353, 0.0822, 0.7913, 0.7273],\n",
            "        [0.0028, 0.0815, 0.1691, 0.2044],\n",
            "        [0.6990, 0.5198, 0.4155, 0.4851]])\n",
            "Number of Dimensions:  2\n",
            "\n",
            "tensor([[[0.1007, 0.0189, 0.6471, 0.0771],\n",
            "         [0.2670, 0.2456, 0.0544, 0.8672],\n",
            "         [0.7207, 0.3649, 0.3766, 0.6040]],\n",
            "\n",
            "        [[0.8045, 0.8861, 0.0660, 0.1008],\n",
            "         [0.5595, 0.1251, 0.3429, 0.6404],\n",
            "         [0.1437, 0.8565, 0.4548, 0.8893]]])\n",
            "Number of Dimensions:  3\n"
          ]
        }
      ]
    },
    {
      "cell_type": "markdown",
      "source": [
        "#### Image Random Tensors"
      ],
      "metadata": {
        "id": "yzA1W8YG7MRq"
      }
    },
    {
      "cell_type": "code",
      "source": [
        "## Create a random tensor with similar shape to an image tensor\n",
        "## color channel (RGB), height, width\n",
        "random_image_size_tensor = torch.rand(3, 224, 224) ## 3 matrices 244 x 244\n",
        "print(random_image_size_tensor.shape)\n",
        "print(random_image_size_tensor.ndim)"
      ],
      "metadata": {
        "colab": {
          "base_uri": "https://localhost:8080/"
        },
        "id": "rNKJHk0r3UEx",
        "outputId": "7cd1c8d4-a191-4c30-c2d5-0b6a7b89d649"
      },
      "execution_count": 20,
      "outputs": [
        {
          "output_type": "stream",
          "name": "stdout",
          "text": [
            "torch.Size([3, 224, 224])\n",
            "3\n"
          ]
        }
      ]
    },
    {
      "cell_type": "markdown",
      "source": [
        "Therefore, we can say that any type of data can be converted into tensors."
      ],
      "metadata": {
        "id": "jowcNtdT6dcX"
      }
    },
    {
      "cell_type": "markdown",
      "source": [
        "### Zeros and Ones Tensors"
      ],
      "metadata": {
        "id": "PRhQZ2BU7P5G"
      }
    },
    {
      "cell_type": "code",
      "source": [
        "zeros = torch.zeros(size=(3,4))\n",
        "zeros"
      ],
      "metadata": {
        "colab": {
          "base_uri": "https://localhost:8080/"
        },
        "id": "emcvtZZ43UB3",
        "outputId": "6c08966c-f494-4d07-d8eb-41dfd2b01afa"
      },
      "execution_count": 21,
      "outputs": [
        {
          "output_type": "execute_result",
          "data": {
            "text/plain": [
              "tensor([[0., 0., 0., 0.],\n",
              "        [0., 0., 0., 0.],\n",
              "        [0., 0., 0., 0.]])"
            ]
          },
          "metadata": {},
          "execution_count": 21
        }
      ]
    },
    {
      "cell_type": "code",
      "source": [
        "zeros * random_tensor1"
      ],
      "metadata": {
        "colab": {
          "base_uri": "https://localhost:8080/"
        },
        "id": "2Jjz8cHQ7ezU",
        "outputId": "89dffa19-345d-4ddd-bec0-6b6cca3fc7df"
      },
      "execution_count": 22,
      "outputs": [
        {
          "output_type": "execute_result",
          "data": {
            "text/plain": [
              "tensor([[0., 0., 0., 0.],\n",
              "        [0., 0., 0., 0.],\n",
              "        [0., 0., 0., 0.]])"
            ]
          },
          "metadata": {},
          "execution_count": 22
        }
      ]
    },
    {
      "cell_type": "code",
      "source": [
        "ones = torch.ones(size=(3,4))\n",
        "ones"
      ],
      "metadata": {
        "colab": {
          "base_uri": "https://localhost:8080/"
        },
        "id": "qK4p1gaC7jSK",
        "outputId": "49f5dc3d-0f93-4f31-b907-82926dcbd0cb"
      },
      "execution_count": 23,
      "outputs": [
        {
          "output_type": "execute_result",
          "data": {
            "text/plain": [
              "tensor([[1., 1., 1., 1.],\n",
              "        [1., 1., 1., 1.],\n",
              "        [1., 1., 1., 1.]])"
            ]
          },
          "metadata": {},
          "execution_count": 23
        }
      ]
    },
    {
      "cell_type": "markdown",
      "source": [
        "Note that by default tensors have float values."
      ],
      "metadata": {
        "id": "5KYK9pnh7vJ0"
      }
    },
    {
      "cell_type": "code",
      "source": [
        "ones * random_tensor1"
      ],
      "metadata": {
        "colab": {
          "base_uri": "https://localhost:8080/"
        },
        "id": "w42IkoBb7pBT",
        "outputId": "4de2d998-d39e-4a56-c928-d677277871c4"
      },
      "execution_count": 24,
      "outputs": [
        {
          "output_type": "execute_result",
          "data": {
            "text/plain": [
              "tensor([[0.0353, 0.0822, 0.7913, 0.7273],\n",
              "        [0.0028, 0.0815, 0.1691, 0.2044],\n",
              "        [0.6990, 0.5198, 0.4155, 0.4851]])"
            ]
          },
          "metadata": {},
          "execution_count": 24
        }
      ]
    },
    {
      "cell_type": "markdown",
      "source": [
        "### Creating a range of tensors and tensors-like"
      ],
      "metadata": {
        "id": "Ft9IspDF8Gwr"
      }
    },
    {
      "cell_type": "code",
      "source": [
        "torch.arange(1, 11) ## returns tensor from [start, end)"
      ],
      "metadata": {
        "colab": {
          "base_uri": "https://localhost:8080/"
        },
        "id": "pABTEQ_d7o-5",
        "outputId": "74a2227a-0f37-4b8c-b08e-5518d350c39d"
      },
      "execution_count": 25,
      "outputs": [
        {
          "output_type": "execute_result",
          "data": {
            "text/plain": [
              "tensor([ 1,  2,  3,  4,  5,  6,  7,  8,  9, 10])"
            ]
          },
          "metadata": {},
          "execution_count": 25
        }
      ]
    },
    {
      "cell_type": "code",
      "source": [
        "torch.arange(start=1, end=1000, step=77)"
      ],
      "metadata": {
        "colab": {
          "base_uri": "https://localhost:8080/"
        },
        "id": "Dcnivx9s7o8X",
        "outputId": "da6a998c-95d2-42da-b4e3-e310b056a6b4"
      },
      "execution_count": 26,
      "outputs": [
        {
          "output_type": "execute_result",
          "data": {
            "text/plain": [
              "tensor([  1,  78, 155, 232, 309, 386, 463, 540, 617, 694, 771, 848, 925])"
            ]
          },
          "metadata": {},
          "execution_count": 26
        }
      ]
    },
    {
      "cell_type": "code",
      "source": [
        "## Creating tensor-like\n",
        "## to get say a zeros tensor of the same shape as other tensor\n",
        "## without mentioning the shape of input tensor\n",
        "one_to_ten = torch.arange(1, 11)\n",
        "ten_zeros = torch.zeros_like(input=one_to_ten)\n",
        "ten_zeros"
      ],
      "metadata": {
        "colab": {
          "base_uri": "https://localhost:8080/"
        },
        "id": "IMzU6oMS7ozI",
        "outputId": "3557125f-a80a-499b-91ba-d63950e866dd"
      },
      "execution_count": 27,
      "outputs": [
        {
          "output_type": "execute_result",
          "data": {
            "text/plain": [
              "tensor([0, 0, 0, 0, 0, 0, 0, 0, 0, 0])"
            ]
          },
          "metadata": {},
          "execution_count": 27
        }
      ]
    },
    {
      "cell_type": "code",
      "source": [
        "random_tensor1"
      ],
      "metadata": {
        "colab": {
          "base_uri": "https://localhost:8080/"
        },
        "id": "yBCMicj6-IgC",
        "outputId": "cdbc7a7e-a5f6-410a-e8d0-5d4c9496ccbe"
      },
      "execution_count": 28,
      "outputs": [
        {
          "output_type": "execute_result",
          "data": {
            "text/plain": [
              "tensor([[0.0353, 0.0822, 0.7913, 0.7273],\n",
              "        [0.0028, 0.0815, 0.1691, 0.2044],\n",
              "        [0.6990, 0.5198, 0.4155, 0.4851]])"
            ]
          },
          "metadata": {},
          "execution_count": 28
        }
      ]
    },
    {
      "cell_type": "code",
      "source": [
        "## get 0 tensor as the shape of random_tensor1\n",
        "torch.zeros_like(random_tensor1)"
      ],
      "metadata": {
        "colab": {
          "base_uri": "https://localhost:8080/"
        },
        "id": "AwpD-JLO-KO2",
        "outputId": "df656bc7-a2cf-4ed6-c662-bf1d98219c03"
      },
      "execution_count": 29,
      "outputs": [
        {
          "output_type": "execute_result",
          "data": {
            "text/plain": [
              "tensor([[0., 0., 0., 0.],\n",
              "        [0., 0., 0., 0.],\n",
              "        [0., 0., 0., 0.]])"
            ]
          },
          "metadata": {},
          "execution_count": 29
        }
      ]
    },
    {
      "cell_type": "markdown",
      "source": [
        "### Tensor Datatype\n",
        "\n",
        "3 big errors you'll run into in PyTorch and Deep Learning:\n",
        "- dtype - Tensor datatype\n",
        "\n",
        " float32 (takes 32 bits of memory) is the default datatype. If we are ready to give up some precision we can go for float16 as it can compute faster. If we need more precision we can go for float64\n",
        "\n",
        " `tensor.dtype`\n",
        "- device\n",
        "\n",
        "  default - \"cpu\", can use \"cuda\", the tensors need to be on same device, like one tensor is created on GPU for faster calculations and one is created on CPU, this will create an error.\n",
        "\n",
        "  `tensor.device`\n",
        "- tensor shape\n",
        "\n",
        "  `tensor.shape`"
      ],
      "metadata": {
        "id": "Iz-Zkh95_rnp"
      }
    },
    {
      "cell_type": "code",
      "source": [
        "float_32_tensor = torch.tensor([3.0,6.0,9.0],\n",
        "                               dtype=None, ## data type\n",
        "                               device=None, ## device of tensor\n",
        "                               requires_grad=False ## track gradients with tensor operations\n",
        "                               )"
      ],
      "metadata": {
        "id": "W53MH9_x-WMU"
      },
      "execution_count": 30,
      "outputs": []
    },
    {
      "cell_type": "code",
      "source": [
        "float_32_tensor.dtype"
      ],
      "metadata": {
        "id": "KquQjkMR-WJM",
        "colab": {
          "base_uri": "https://localhost:8080/"
        },
        "outputId": "b6487e2c-298b-4719-e724-bb922fae777a"
      },
      "execution_count": 31,
      "outputs": [
        {
          "output_type": "execute_result",
          "data": {
            "text/plain": [
              "torch.float32"
            ]
          },
          "metadata": {},
          "execution_count": 31
        }
      ]
    },
    {
      "cell_type": "markdown",
      "source": [
        "Even when we said dtype as None, it still makes it to default float32"
      ],
      "metadata": {
        "id": "x6mUXJV9Fjlr"
      }
    },
    {
      "cell_type": "code",
      "source": [
        "## Convert float32 datatype to float16\n",
        "float_16_tensor = float_32_tensor.type(torch.float16)\n",
        "float_16_tensor.dtype"
      ],
      "metadata": {
        "id": "75j143-b-V-4",
        "colab": {
          "base_uri": "https://localhost:8080/"
        },
        "outputId": "b0ca1aed-67d4-485e-9aeb-a6f0b7c0ff66"
      },
      "execution_count": 32,
      "outputs": [
        {
          "output_type": "execute_result",
          "data": {
            "text/plain": [
              "torch.float16"
            ]
          },
          "metadata": {},
          "execution_count": 32
        }
      ]
    },
    {
      "cell_type": "code",
      "source": [
        "float_16_tensor * float_32_tensor"
      ],
      "metadata": {
        "colab": {
          "base_uri": "https://localhost:8080/"
        },
        "id": "PGgOQDhrDGzJ",
        "outputId": "5b68cfac-bbe1-4746-f271-03df0b8556ab"
      },
      "execution_count": 33,
      "outputs": [
        {
          "output_type": "execute_result",
          "data": {
            "text/plain": [
              "tensor([ 9., 36., 81.])"
            ]
          },
          "metadata": {},
          "execution_count": 33
        }
      ]
    },
    {
      "cell_type": "markdown",
      "source": [
        "INTERESTING!! This works fine.\n",
        "\n",
        "Just keep in mind this might create a problem in some cases."
      ],
      "metadata": {
        "id": "ZTlX5MzNDLtl"
      }
    },
    {
      "cell_type": "markdown",
      "source": [
        "#### Getting Tensor attributes - Data Type, Shape, Device"
      ],
      "metadata": {
        "id": "Vi48aE4jEpgy"
      }
    },
    {
      "cell_type": "code",
      "source": [
        "some_tensor = torch.rand(3,4)\n",
        "some_tensor"
      ],
      "metadata": {
        "colab": {
          "base_uri": "https://localhost:8080/"
        },
        "id": "gbrrn0xfDGt9",
        "outputId": "dc80d8f1-6eef-4b21-b1b9-f1c2510c3a77"
      },
      "execution_count": 34,
      "outputs": [
        {
          "output_type": "execute_result",
          "data": {
            "text/plain": [
              "tensor([[0.5023, 0.4469, 0.9051, 0.5906],\n",
              "        [0.0178, 0.8936, 0.8216, 0.6970],\n",
              "        [0.1629, 0.2043, 0.4037, 0.1455]])"
            ]
          },
          "metadata": {},
          "execution_count": 34
        }
      ]
    },
    {
      "cell_type": "code",
      "source": [
        "print(some_tensor)\n",
        "print(f\"Data Type: {some_tensor.dtype}\")\n",
        "print(f\"Shape: {some_tensor.shape}\")\n",
        "print(f\"Device: {some_tensor.device}\")"
      ],
      "metadata": {
        "colab": {
          "base_uri": "https://localhost:8080/"
        },
        "id": "UwnR0RTzDGrF",
        "outputId": "f3fdb7ed-e071-4d0e-9d8f-b71f2083a44b"
      },
      "execution_count": 35,
      "outputs": [
        {
          "output_type": "stream",
          "name": "stdout",
          "text": [
            "tensor([[0.5023, 0.4469, 0.9051, 0.5906],\n",
            "        [0.0178, 0.8936, 0.8216, 0.6970],\n",
            "        [0.1629, 0.2043, 0.4037, 0.1455]])\n",
            "Data Type: torch.float32\n",
            "Shape: torch.Size([3, 4])\n",
            "Device: cpu\n"
          ]
        }
      ]
    },
    {
      "cell_type": "markdown",
      "source": [
        "### Manipulating Tensors (tensor operations)\n",
        "\n",
        "Tensor operation include:\n",
        "- Addition: `+` or `torch.add`\n",
        "- Subtraction: `-` or `torch.subtract`\n",
        "- Multiplication (element-wise): `*` or `torch.mul`\n",
        "- Division: `/` or `torch.divide`\n",
        "- Matrix Multiplication"
      ],
      "metadata": {
        "id": "4yjWAdJJFHFi"
      }
    },
    {
      "cell_type": "code",
      "source": [
        "## create a tensor and add 10 to it\n",
        "tensor = torch.tensor([1,2,3])\n",
        "tensor + 10"
      ],
      "metadata": {
        "colab": {
          "base_uri": "https://localhost:8080/"
        },
        "id": "aGibNZUdDGoZ",
        "outputId": "f18dfd60-e3aa-4f62-bf07-57b86e5262de"
      },
      "execution_count": 36,
      "outputs": [
        {
          "output_type": "execute_result",
          "data": {
            "text/plain": [
              "tensor([11, 12, 13])"
            ]
          },
          "metadata": {},
          "execution_count": 36
        }
      ]
    },
    {
      "cell_type": "code",
      "source": [
        "## using pytorch functions add\n",
        "torch.add(tensor, 10)"
      ],
      "metadata": {
        "colab": {
          "base_uri": "https://localhost:8080/"
        },
        "id": "Qtek0Bt2F_Sa",
        "outputId": "a211db0b-9b89-4f24-cfc0-7e78f1f7afdd"
      },
      "execution_count": 37,
      "outputs": [
        {
          "output_type": "execute_result",
          "data": {
            "text/plain": [
              "tensor([11, 12, 13])"
            ]
          },
          "metadata": {},
          "execution_count": 37
        }
      ]
    },
    {
      "cell_type": "code",
      "source": [
        "## subtract a tensor by 10\n",
        "tensor - 10"
      ],
      "metadata": {
        "colab": {
          "base_uri": "https://localhost:8080/"
        },
        "id": "71AsV_UGFtGh",
        "outputId": "198c3a31-9959-4b80-efa6-56fe24c35244"
      },
      "execution_count": 38,
      "outputs": [
        {
          "output_type": "execute_result",
          "data": {
            "text/plain": [
              "tensor([-9, -8, -7])"
            ]
          },
          "metadata": {},
          "execution_count": 38
        }
      ]
    },
    {
      "cell_type": "code",
      "source": [
        "## using function subtract\n",
        "torch.subtract(tensor, 10)"
      ],
      "metadata": {
        "colab": {
          "base_uri": "https://localhost:8080/"
        },
        "id": "Echyd8b_GHTJ",
        "outputId": "c04d7643-f8de-4dc1-b25d-f231704fc731"
      },
      "execution_count": 39,
      "outputs": [
        {
          "output_type": "execute_result",
          "data": {
            "text/plain": [
              "tensor([-9, -8, -7])"
            ]
          },
          "metadata": {},
          "execution_count": 39
        }
      ]
    },
    {
      "cell_type": "code",
      "source": [
        "## multiply tensor by 10\n",
        "tensor * 10"
      ],
      "metadata": {
        "colab": {
          "base_uri": "https://localhost:8080/"
        },
        "id": "reDpAU4cDGat",
        "outputId": "5cba5be5-b075-44bc-fa0c-96e2b8d99068"
      },
      "execution_count": 40,
      "outputs": [
        {
          "output_type": "execute_result",
          "data": {
            "text/plain": [
              "tensor([10, 20, 30])"
            ]
          },
          "metadata": {},
          "execution_count": 40
        }
      ]
    },
    {
      "cell_type": "code",
      "source": [
        "## using function mul\n",
        "tensor.mul(10)"
      ],
      "metadata": {
        "colab": {
          "base_uri": "https://localhost:8080/"
        },
        "id": "wOFh4WgkFsLU",
        "outputId": "2f9731b0-2cf1-4030-b61d-de1a9b811b0a"
      },
      "execution_count": 41,
      "outputs": [
        {
          "output_type": "execute_result",
          "data": {
            "text/plain": [
              "tensor([10, 20, 30])"
            ]
          },
          "metadata": {},
          "execution_count": 41
        }
      ]
    },
    {
      "cell_type": "code",
      "source": [
        "## divide tensor by 10\n",
        "tensor / 10"
      ],
      "metadata": {
        "colab": {
          "base_uri": "https://localhost:8080/"
        },
        "id": "LkZBfl0BGYbW",
        "outputId": "2221c283-92bf-4294-ac4b-659ef7420a0c"
      },
      "execution_count": 42,
      "outputs": [
        {
          "output_type": "execute_result",
          "data": {
            "text/plain": [
              "tensor([0.1000, 0.2000, 0.3000])"
            ]
          },
          "metadata": {},
          "execution_count": 42
        }
      ]
    },
    {
      "cell_type": "code",
      "source": [
        "## using function divide\n",
        "torch.divide(tensor, 10)"
      ],
      "metadata": {
        "colab": {
          "base_uri": "https://localhost:8080/"
        },
        "id": "x1xz6k5jGdj5",
        "outputId": "33219f56-f8f2-400a-e205-48e4d6d4f3ab"
      },
      "execution_count": 43,
      "outputs": [
        {
          "output_type": "execute_result",
          "data": {
            "text/plain": [
              "tensor([0.1000, 0.2000, 0.3000])"
            ]
          },
          "metadata": {},
          "execution_count": 43
        }
      ]
    },
    {
      "cell_type": "markdown",
      "source": [
        "#### Matrix Multiplication\n",
        "\n",
        "Two ways of performing multiplication in in NN and DL:\n",
        "- Element-wise multiplication `torch.mul(tensor, tensor)`\n",
        "- Matrix multiplication (dot product) `torch.matmul(tensor, tensor)` or `@` or `torch.mm(tensor, tensor)`\n",
        "\n",
        "Matrix Multiplication rules:\n",
        "1. **Inner dimensions** must match:\n",
        "* `(3,2) @ (3,2)` won't work\n",
        "* `(3,2) @ (2,3)` will work\n",
        "* `(2,3) @ (3,2)` will work\n",
        "\n",
        "2. Resulting matrix has the shape of **Outer Dimensions**:\n",
        "* `(3,2) @ (2,3)` => `(3,3)`\n",
        "* `(2,3) @ (3,2)` => `(2,2)`"
      ],
      "metadata": {
        "id": "vFXq_W1jG8Ho"
      }
    },
    {
      "cell_type": "code",
      "source": [
        "tensor"
      ],
      "metadata": {
        "colab": {
          "base_uri": "https://localhost:8080/"
        },
        "id": "SP4zgBzvG79Y",
        "outputId": "6fc5689a-cfaf-434a-8470-5a0046c48058"
      },
      "execution_count": 44,
      "outputs": [
        {
          "output_type": "execute_result",
          "data": {
            "text/plain": [
              "tensor([1, 2, 3])"
            ]
          },
          "metadata": {},
          "execution_count": 44
        }
      ]
    },
    {
      "cell_type": "code",
      "source": [
        "## Element-wise multiplication\n",
        "torch.mul(tensor, tensor)"
      ],
      "metadata": {
        "colab": {
          "base_uri": "https://localhost:8080/"
        },
        "id": "3c3BxuUBG76f",
        "outputId": "63ae925a-3af2-4e12-a3a1-69f4d0dcac2c"
      },
      "execution_count": 45,
      "outputs": [
        {
          "output_type": "execute_result",
          "data": {
            "text/plain": [
              "tensor([1, 4, 9])"
            ]
          },
          "metadata": {},
          "execution_count": 45
        }
      ]
    },
    {
      "cell_type": "code",
      "source": [
        "## Matrix-Multiplication\n",
        "torch.matmul(tensor, tensor)"
      ],
      "metadata": {
        "colab": {
          "base_uri": "https://localhost:8080/"
        },
        "id": "N5WgfgxtG72y",
        "outputId": "6f083d14-fa42-44fd-c07f-8f8ce23f4b2c"
      },
      "execution_count": 46,
      "outputs": [
        {
          "output_type": "execute_result",
          "data": {
            "text/plain": [
              "tensor(14)"
            ]
          },
          "metadata": {},
          "execution_count": 46
        }
      ]
    },
    {
      "cell_type": "code",
      "source": [
        "## THIS WON'T WORK\n",
        "## torch.matmul(torch.rand(3,2), torch.rand(3,2))"
      ],
      "metadata": {
        "id": "okxKi7qoG7zw"
      },
      "execution_count": 47,
      "outputs": []
    },
    {
      "cell_type": "code",
      "source": [
        "## Resulting matrix will be 2x2\n",
        "torch.matmul(torch.rand(2,3), torch.rand(3,2))"
      ],
      "metadata": {
        "colab": {
          "base_uri": "https://localhost:8080/"
        },
        "id": "c6bohPshG7rC",
        "outputId": "e626f278-eab2-4a02-94e2-6e4f8ba66017"
      },
      "execution_count": 48,
      "outputs": [
        {
          "output_type": "execute_result",
          "data": {
            "text/plain": [
              "tensor([[0.7441, 0.8644],\n",
              "        [0.6890, 0.9868]])"
            ]
          },
          "metadata": {},
          "execution_count": 48
        }
      ]
    },
    {
      "cell_type": "markdown",
      "source": [
        "#### Shape Errors in DL and Matrix Transpose"
      ],
      "metadata": {
        "id": "abq7UeLb0UzE"
      }
    },
    {
      "cell_type": "code",
      "source": [
        "tensor_A = torch.tensor([[1,2],\n",
        "                         [3,4],\n",
        "                         [5,6]])\n",
        "\n",
        "tensor_B = torch.tensor([[7,10],\n",
        "                         [8,11],\n",
        "                         [9,12]])\n",
        "tensor_A.shape, tensor_B.shape"
      ],
      "metadata": {
        "colab": {
          "base_uri": "https://localhost:8080/"
        },
        "id": "UnseCHcH0S60",
        "outputId": "1d86f47c-8ccf-4818-e8a9-c8863ae1af58"
      },
      "execution_count": 49,
      "outputs": [
        {
          "output_type": "execute_result",
          "data": {
            "text/plain": [
              "(torch.Size([3, 2]), torch.Size([3, 2]))"
            ]
          },
          "metadata": {},
          "execution_count": 49
        }
      ]
    },
    {
      "cell_type": "markdown",
      "source": [
        "Therefore, we will not be able to multiply these tensors or matrices.\n",
        "\n",
        "What we need is **Transpose** of a matrix."
      ],
      "metadata": {
        "id": "-l7lsXvG1dYb"
      }
    },
    {
      "cell_type": "code",
      "source": [
        "tensor_B.T"
      ],
      "metadata": {
        "colab": {
          "base_uri": "https://localhost:8080/"
        },
        "id": "Dc2dBfzA0Suo",
        "outputId": "1f327c2f-959d-435a-e4fc-170c9d0f6352"
      },
      "execution_count": 50,
      "outputs": [
        {
          "output_type": "execute_result",
          "data": {
            "text/plain": [
              "tensor([[ 7,  8,  9],\n",
              "        [10, 11, 12]])"
            ]
          },
          "metadata": {},
          "execution_count": 50
        }
      ]
    },
    {
      "cell_type": "code",
      "source": [
        "tensor_B.T.shape"
      ],
      "metadata": {
        "colab": {
          "base_uri": "https://localhost:8080/"
        },
        "id": "roH-LsJ10Srs",
        "outputId": "af8e04d2-b255-4412-f050-36d0e7647df2"
      },
      "execution_count": 51,
      "outputs": [
        {
          "output_type": "execute_result",
          "data": {
            "text/plain": [
              "torch.Size([2, 3])"
            ]
          },
          "metadata": {},
          "execution_count": 51
        }
      ]
    },
    {
      "cell_type": "code",
      "source": [
        "torch.matmul(tensor_A, tensor_B.T)"
      ],
      "metadata": {
        "colab": {
          "base_uri": "https://localhost:8080/"
        },
        "id": "7Z0Po0cL0SpS",
        "outputId": "0c94d544-2491-419f-c41d-a04d985990e6"
      },
      "execution_count": 52,
      "outputs": [
        {
          "output_type": "execute_result",
          "data": {
            "text/plain": [
              "tensor([[ 27,  30,  33],\n",
              "        [ 61,  68,  75],\n",
              "        [ 95, 106, 117]])"
            ]
          },
          "metadata": {},
          "execution_count": 52
        }
      ]
    },
    {
      "cell_type": "code",
      "source": [
        "print(f\"Original shapes: tensor_A = {tensor_A.shape}, tensor_B = {tensor_B.shape}\")\n",
        "print(f\"New shapes: tensor_A = {tensor_A.shape}, tensor_B.T = {tensor_B.T.shape}\")\n",
        "print(f\"Multiplying: {tensor_A.shape} @ {tensor_B.T.shape}, here inner dimensions match!!\")\n",
        "print(\"Output:\\n\")\n",
        "output = torch.matmul(tensor_A, tensor_B.T)\n",
        "print(output)\n",
        "print(f\"\\nOutput shape: {output.shape}\")"
      ],
      "metadata": {
        "colab": {
          "base_uri": "https://localhost:8080/"
        },
        "id": "hDF9N5cb0Smg",
        "outputId": "db6d4357-e958-4419-b6ac-dcdf55f0a5a6"
      },
      "execution_count": 53,
      "outputs": [
        {
          "output_type": "stream",
          "name": "stdout",
          "text": [
            "Original shapes: tensor_A = torch.Size([3, 2]), tensor_B = torch.Size([3, 2])\n",
            "New shapes: tensor_A = torch.Size([3, 2]), tensor_B.T = torch.Size([2, 3])\n",
            "Multiplying: torch.Size([3, 2]) @ torch.Size([2, 3]), here inner dimensions match!!\n",
            "Output:\n",
            "\n",
            "tensor([[ 27,  30,  33],\n",
            "        [ 61,  68,  75],\n",
            "        [ 95, 106, 117]])\n",
            "\n",
            "Output shape: torch.Size([3, 3])\n"
          ]
        }
      ]
    },
    {
      "cell_type": "markdown",
      "source": [
        "#### Tensor Aggregation\n",
        "\n",
        "Finding min, max, mean, sum and so on\n",
        "\n",
        "- `tensor.min()` OR `torch.min(tensor)`\n",
        "- `tensor.max()` OR `torch.max(tensor)`\n",
        "- `tensor.type(torch.float32).mean()` OR `torch.mean(tensor.type(torch.float32))`\n",
        "- `tensor.sum()` OR `torch.sum(tensor)`"
      ],
      "metadata": {
        "id": "dShQrVd45t9Z"
      }
    },
    {
      "cell_type": "code",
      "source": [
        "tensor = torch.arange(0, 100, 10)\n",
        "tensor"
      ],
      "metadata": {
        "colab": {
          "base_uri": "https://localhost:8080/"
        },
        "id": "GJ68ti8w0Sjn",
        "outputId": "64451394-6066-41b0-99e6-686394779e28"
      },
      "execution_count": 54,
      "outputs": [
        {
          "output_type": "execute_result",
          "data": {
            "text/plain": [
              "tensor([ 0, 10, 20, 30, 40, 50, 60, 70, 80, 90])"
            ]
          },
          "metadata": {},
          "execution_count": 54
        }
      ]
    },
    {
      "cell_type": "code",
      "source": [
        "torch.min(tensor) ## or tensor.min()"
      ],
      "metadata": {
        "colab": {
          "base_uri": "https://localhost:8080/"
        },
        "id": "yw7JYvR-0Sc-",
        "outputId": "9bdf5bcb-ae21-465a-9b8c-f4fde9429ab7"
      },
      "execution_count": 55,
      "outputs": [
        {
          "output_type": "execute_result",
          "data": {
            "text/plain": [
              "tensor(0)"
            ]
          },
          "metadata": {},
          "execution_count": 55
        }
      ]
    },
    {
      "cell_type": "code",
      "source": [
        "torch.max(tensor) ## or tensor.max()"
      ],
      "metadata": {
        "colab": {
          "base_uri": "https://localhost:8080/"
        },
        "id": "kfiKDK-d6MRG",
        "outputId": "cca19dc3-ed6e-40c7-d983-7090605bb65b"
      },
      "execution_count": 56,
      "outputs": [
        {
          "output_type": "execute_result",
          "data": {
            "text/plain": [
              "tensor(90)"
            ]
          },
          "metadata": {},
          "execution_count": 56
        }
      ]
    },
    {
      "cell_type": "code",
      "source": [
        "## This following code will not work as the dtype of input tensor is Long\n",
        "## We need to convert it to floating point\n",
        "\n",
        "##torch.mean(tensor)"
      ],
      "metadata": {
        "id": "RjnHv0f46MOw"
      },
      "execution_count": 57,
      "outputs": []
    },
    {
      "cell_type": "code",
      "source": [
        "torch.mean(tensor.type(torch.float32)) ## or tensor.type(torch.float32).mean()"
      ],
      "metadata": {
        "colab": {
          "base_uri": "https://localhost:8080/"
        },
        "id": "Me-1oms56ML8",
        "outputId": "e1aff910-fa34-41c3-bb5c-a033bd4ab592"
      },
      "execution_count": 58,
      "outputs": [
        {
          "output_type": "execute_result",
          "data": {
            "text/plain": [
              "tensor(45.)"
            ]
          },
          "metadata": {},
          "execution_count": 58
        }
      ]
    },
    {
      "cell_type": "markdown",
      "source": [
        "*torch.mean() requires a tensor of float data type to work.*"
      ],
      "metadata": {
        "id": "2xF_pH9m7Mld"
      }
    },
    {
      "cell_type": "code",
      "source": [
        "torch.sum(tensor) ## or tensor.sum()"
      ],
      "metadata": {
        "colab": {
          "base_uri": "https://localhost:8080/"
        },
        "id": "3KJ-Z1WA6MJC",
        "outputId": "f3efd79d-6afa-4919-a626-9e158b921e2e"
      },
      "execution_count": 59,
      "outputs": [
        {
          "output_type": "execute_result",
          "data": {
            "text/plain": [
              "tensor(450)"
            ]
          },
          "metadata": {},
          "execution_count": 59
        }
      ]
    },
    {
      "cell_type": "markdown",
      "source": [
        "Find the position of min and max of a tensor.\n",
        "\n",
        "- `tensor.argmin()`\n",
        "- `tensor.argmax()`"
      ],
      "metadata": {
        "id": "nmH9g7k09RMu"
      }
    },
    {
      "cell_type": "code",
      "source": [
        "output"
      ],
      "metadata": {
        "colab": {
          "base_uri": "https://localhost:8080/"
        },
        "id": "Aphc61pv6MGT",
        "outputId": "76b324f3-c53a-4053-a539-c40412b4b547"
      },
      "execution_count": 60,
      "outputs": [
        {
          "output_type": "execute_result",
          "data": {
            "text/plain": [
              "tensor([[ 27,  30,  33],\n",
              "        [ 61,  68,  75],\n",
              "        [ 95, 106, 117]])"
            ]
          },
          "metadata": {},
          "execution_count": 60
        }
      ]
    },
    {
      "cell_type": "code",
      "source": [
        "output.argmin()"
      ],
      "metadata": {
        "colab": {
          "base_uri": "https://localhost:8080/"
        },
        "id": "XlOiXlCh6L_Y",
        "outputId": "24e7c862-c213-4028-8353-e08298210556"
      },
      "execution_count": 61,
      "outputs": [
        {
          "output_type": "execute_result",
          "data": {
            "text/plain": [
              "tensor(0)"
            ]
          },
          "metadata": {},
          "execution_count": 61
        }
      ]
    },
    {
      "cell_type": "code",
      "source": [
        "output.argmax()"
      ],
      "metadata": {
        "colab": {
          "base_uri": "https://localhost:8080/"
        },
        "id": "gxOuZE5nA5ax",
        "outputId": "7eed414d-8be9-4ec9-e015-e5f37ace814b"
      },
      "execution_count": 62,
      "outputs": [
        {
          "output_type": "execute_result",
          "data": {
            "text/plain": [
              "tensor(8)"
            ]
          },
          "metadata": {},
          "execution_count": 62
        }
      ]
    },
    {
      "cell_type": "markdown",
      "source": [
        "#### Reshaping, Stacking, Squeezing and Unsqueezing tensors\n",
        "\n",
        "* Reshaping - reshape an input tensor into a defined shape `x.reshape()`\n",
        "* View - Return a view of an input tensor of a certain shape but keep the same memory as the original tensor.\n",
        "* Stacking - combine multiple tensors on top of each other or side by side, `torch.stack()`, `torch.hstack()`, `torch.vstack()`\n",
        "* Squeezing - removes all `1` dimensions from a tensor\n",
        "* Unsqueezing - add a `1` dimension to a target tensor\n",
        "* Permute - Return a view of the input with dimensions permuted (swapped) in a certain way"
      ],
      "metadata": {
        "id": "cAP9nJ7XBtF7"
      }
    },
    {
      "cell_type": "code",
      "source": [
        "x = torch.arange(1.,10.)\n",
        "x, x.shape"
      ],
      "metadata": {
        "colab": {
          "base_uri": "https://localhost:8080/"
        },
        "id": "vIshFuVIBsoM",
        "outputId": "26127c51-8550-470e-c476-3aae57e03180"
      },
      "execution_count": 63,
      "outputs": [
        {
          "output_type": "execute_result",
          "data": {
            "text/plain": [
              "(tensor([1., 2., 3., 4., 5., 6., 7., 8., 9.]), torch.Size([9]))"
            ]
          },
          "metadata": {},
          "execution_count": 63
        }
      ]
    },
    {
      "cell_type": "code",
      "source": [
        "x.reshape(1,9), x.reshape(1,9).shape"
      ],
      "metadata": {
        "colab": {
          "base_uri": "https://localhost:8080/"
        },
        "id": "NWf6e_clBSGp",
        "outputId": "db99984a-1e55-4929-b746-565a0a8e94b3"
      },
      "execution_count": 64,
      "outputs": [
        {
          "output_type": "execute_result",
          "data": {
            "text/plain": [
              "(tensor([[1., 2., 3., 4., 5., 6., 7., 8., 9.]]), torch.Size([1, 9]))"
            ]
          },
          "metadata": {},
          "execution_count": 64
        }
      ]
    },
    {
      "cell_type": "code",
      "source": [
        "x.reshape(9, 1), x.reshape(9, 1).shape"
      ],
      "metadata": {
        "colab": {
          "base_uri": "https://localhost:8080/"
        },
        "id": "JEEa3du0BSCk",
        "outputId": "5c18aee5-e7f3-4a05-e3e0-df33dbb969cc"
      },
      "execution_count": 65,
      "outputs": [
        {
          "output_type": "execute_result",
          "data": {
            "text/plain": [
              "(tensor([[1.],\n",
              "         [2.],\n",
              "         [3.],\n",
              "         [4.],\n",
              "         [5.],\n",
              "         [6.],\n",
              "         [7.],\n",
              "         [8.],\n",
              "         [9.]]),\n",
              " torch.Size([9, 1]))"
            ]
          },
          "metadata": {},
          "execution_count": 65
        }
      ]
    },
    {
      "cell_type": "markdown",
      "source": [
        "Cannot do some other shape like reshape(1,8) (fitting 9 elements to 8 places) or reshape(2,9) (fitting 9 elements into 18 places).  "
      ],
      "metadata": {
        "id": "6-UfmwR-EvZ6"
      }
    },
    {
      "cell_type": "code",
      "source": [
        "y = torch.arange(0.,10.)\n",
        "y, y.shape"
      ],
      "metadata": {
        "colab": {
          "base_uri": "https://localhost:8080/"
        },
        "id": "dPl-tzRjEu50",
        "outputId": "79256512-a443-416f-f8ec-7998181f4b82"
      },
      "execution_count": 66,
      "outputs": [
        {
          "output_type": "execute_result",
          "data": {
            "text/plain": [
              "(tensor([0., 1., 2., 3., 4., 5., 6., 7., 8., 9.]), torch.Size([10]))"
            ]
          },
          "metadata": {},
          "execution_count": 66
        }
      ]
    },
    {
      "cell_type": "code",
      "source": [
        "## Can fit 10 elements into 2 tensors of size 5\n",
        "y.reshape(2,5)"
      ],
      "metadata": {
        "colab": {
          "base_uri": "https://localhost:8080/"
        },
        "id": "c3u3C3P9BR_l",
        "outputId": "a691232f-158c-42cb-8b2d-c8ddd9437df1"
      },
      "execution_count": 67,
      "outputs": [
        {
          "output_type": "execute_result",
          "data": {
            "text/plain": [
              "tensor([[0., 1., 2., 3., 4.],\n",
              "        [5., 6., 7., 8., 9.]])"
            ]
          },
          "metadata": {},
          "execution_count": 67
        }
      ]
    },
    {
      "cell_type": "code",
      "source": [
        "## Change the view\n",
        "z = x.view(1,9)\n",
        "z, z.shape"
      ],
      "metadata": {
        "colab": {
          "base_uri": "https://localhost:8080/"
        },
        "id": "fxHUk9NVBR3T",
        "outputId": "864e9197-2128-40d5-8bb3-c854ba2a746a"
      },
      "execution_count": 68,
      "outputs": [
        {
          "output_type": "execute_result",
          "data": {
            "text/plain": [
              "(tensor([[1., 2., 3., 4., 5., 6., 7., 8., 9.]]), torch.Size([1, 9]))"
            ]
          },
          "metadata": {},
          "execution_count": 68
        }
      ]
    },
    {
      "cell_type": "markdown",
      "source": [
        "Changing z changes x as view of a tensor shares the same memory as the original tensor."
      ],
      "metadata": {
        "id": "jZI6N6LUBR0h"
      }
    },
    {
      "cell_type": "code",
      "source": [
        "z[:, 0] = 5\n",
        "z, x"
      ],
      "metadata": {
        "colab": {
          "base_uri": "https://localhost:8080/"
        },
        "id": "3l7KhYE4BRxn",
        "outputId": "b82fb08d-39ec-4ba9-c698-36d1ed996295"
      },
      "execution_count": 69,
      "outputs": [
        {
          "output_type": "execute_result",
          "data": {
            "text/plain": [
              "(tensor([[5., 2., 3., 4., 5., 6., 7., 8., 9.]]),\n",
              " tensor([5., 2., 3., 4., 5., 6., 7., 8., 9.]))"
            ]
          },
          "metadata": {},
          "execution_count": 69
        }
      ]
    },
    {
      "cell_type": "markdown",
      "source": [
        "**Stacking of tensors** -\n",
        "\n",
        "`torch.stack()`\n",
        "- Concatenates a sequence of tensors along a new dimension.\n",
        "- All tensors need to be of the same size."
      ],
      "metadata": {
        "id": "CTQTm95VLlG4"
      }
    },
    {
      "cell_type": "markdown",
      "source": [
        "`dim` - Has to be between 0 and the number of dimensions of concatenated tensors (inclusive). Default: 0"
      ],
      "metadata": {
        "id": "ArlwLoieLYix"
      }
    },
    {
      "cell_type": "code",
      "source": [
        "## Stacking of Tensors\n",
        "torch.stack([x,x,x,x]) ## dim=0 by default"
      ],
      "metadata": {
        "colab": {
          "base_uri": "https://localhost:8080/"
        },
        "id": "tKJPLDmDBRvA",
        "outputId": "094b9ce1-d4c5-4de0-ab3b-25bb4b04a6a0"
      },
      "execution_count": 70,
      "outputs": [
        {
          "output_type": "execute_result",
          "data": {
            "text/plain": [
              "tensor([[5., 2., 3., 4., 5., 6., 7., 8., 9.],\n",
              "        [5., 2., 3., 4., 5., 6., 7., 8., 9.],\n",
              "        [5., 2., 3., 4., 5., 6., 7., 8., 9.],\n",
              "        [5., 2., 3., 4., 5., 6., 7., 8., 9.]])"
            ]
          },
          "metadata": {},
          "execution_count": 70
        }
      ]
    },
    {
      "cell_type": "code",
      "source": [
        "## dim = 1\n",
        "torch.stack([x,x,x,x], dim=1)"
      ],
      "metadata": {
        "colab": {
          "base_uri": "https://localhost:8080/"
        },
        "id": "2pRVjRB2BRsJ",
        "outputId": "bcabe327-9fbd-48ae-afaf-0011ed1d921a"
      },
      "execution_count": 71,
      "outputs": [
        {
          "output_type": "execute_result",
          "data": {
            "text/plain": [
              "tensor([[5., 5., 5., 5.],\n",
              "        [2., 2., 2., 2.],\n",
              "        [3., 3., 3., 3.],\n",
              "        [4., 4., 4., 4.],\n",
              "        [5., 5., 5., 5.],\n",
              "        [6., 6., 6., 6.],\n",
              "        [7., 7., 7., 7.],\n",
              "        [8., 8., 8., 8.],\n",
              "        [9., 9., 9., 9.]])"
            ]
          },
          "metadata": {},
          "execution_count": 71
        }
      ]
    },
    {
      "cell_type": "code",
      "source": [
        "output"
      ],
      "metadata": {
        "colab": {
          "base_uri": "https://localhost:8080/"
        },
        "id": "iTlh6GpFBRl9",
        "outputId": "2a200972-21d0-43ed-e29e-c9ac4c4e12c8"
      },
      "execution_count": 72,
      "outputs": [
        {
          "output_type": "execute_result",
          "data": {
            "text/plain": [
              "tensor([[ 27,  30,  33],\n",
              "        [ 61,  68,  75],\n",
              "        [ 95, 106, 117]])"
            ]
          },
          "metadata": {},
          "execution_count": 72
        }
      ]
    },
    {
      "cell_type": "code",
      "source": [
        "torch.stack([output, output], dim=0)"
      ],
      "metadata": {
        "colab": {
          "base_uri": "https://localhost:8080/"
        },
        "id": "RkuQ4CrABRe2",
        "outputId": "7794788f-e140-4301-c364-70b1dace488f"
      },
      "execution_count": 73,
      "outputs": [
        {
          "output_type": "execute_result",
          "data": {
            "text/plain": [
              "tensor([[[ 27,  30,  33],\n",
              "         [ 61,  68,  75],\n",
              "         [ 95, 106, 117]],\n",
              "\n",
              "        [[ 27,  30,  33],\n",
              "         [ 61,  68,  75],\n",
              "         [ 95, 106, 117]]])"
            ]
          },
          "metadata": {},
          "execution_count": 73
        }
      ]
    },
    {
      "cell_type": "code",
      "source": [
        "torch.stack([output, output], dim=1)"
      ],
      "metadata": {
        "colab": {
          "base_uri": "https://localhost:8080/"
        },
        "id": "yfcbkwtHIcEe",
        "outputId": "2eabd76c-fa1b-4cf1-a9b5-48be6a409042"
      },
      "execution_count": 74,
      "outputs": [
        {
          "output_type": "execute_result",
          "data": {
            "text/plain": [
              "tensor([[[ 27,  30,  33],\n",
              "         [ 27,  30,  33]],\n",
              "\n",
              "        [[ 61,  68,  75],\n",
              "         [ 61,  68,  75]],\n",
              "\n",
              "        [[ 95, 106, 117],\n",
              "         [ 95, 106, 117]]])"
            ]
          },
          "metadata": {},
          "execution_count": 74
        }
      ]
    },
    {
      "cell_type": "code",
      "source": [
        "torch.stack([output, output], dim=2)"
      ],
      "metadata": {
        "colab": {
          "base_uri": "https://localhost:8080/"
        },
        "id": "X8F-yy1jJd0e",
        "outputId": "53480ce4-0bdd-44b7-d49c-94e348c74b61"
      },
      "execution_count": 75,
      "outputs": [
        {
          "output_type": "execute_result",
          "data": {
            "text/plain": [
              "tensor([[[ 27,  27],\n",
              "         [ 30,  30],\n",
              "         [ 33,  33]],\n",
              "\n",
              "        [[ 61,  61],\n",
              "         [ 68,  68],\n",
              "         [ 75,  75]],\n",
              "\n",
              "        [[ 95,  95],\n",
              "         [106, 106],\n",
              "         [117, 117]]])"
            ]
          },
          "metadata": {},
          "execution_count": 75
        }
      ]
    },
    {
      "cell_type": "markdown",
      "source": [
        "`torch.hstack()` - Stack tensors in sequence horizontally (column wise).\n",
        "\n",
        "This is equivalent to concatenation along the first axis for 1-D tensors, and along the second axis for all other tensors."
      ],
      "metadata": {
        "id": "_yUnt70iLBKf"
      }
    },
    {
      "cell_type": "code",
      "source": [
        "torch.hstack([x,x])"
      ],
      "metadata": {
        "colab": {
          "base_uri": "https://localhost:8080/"
        },
        "id": "zqmyptgtKp3H",
        "outputId": "93ced10f-5db1-457e-a7fd-97392dbcd9d2"
      },
      "execution_count": 76,
      "outputs": [
        {
          "output_type": "execute_result",
          "data": {
            "text/plain": [
              "tensor([5., 2., 3., 4., 5., 6., 7., 8., 9., 5., 2., 3., 4., 5., 6., 7., 8., 9.])"
            ]
          },
          "metadata": {},
          "execution_count": 76
        }
      ]
    },
    {
      "cell_type": "code",
      "source": [
        "torch.hstack([output, output])"
      ],
      "metadata": {
        "colab": {
          "base_uri": "https://localhost:8080/"
        },
        "id": "ix_AweIwLKUc",
        "outputId": "8010acf8-e995-4b4e-f108-98e4417dab0c"
      },
      "execution_count": 77,
      "outputs": [
        {
          "output_type": "execute_result",
          "data": {
            "text/plain": [
              "tensor([[ 27,  30,  33,  27,  30,  33],\n",
              "        [ 61,  68,  75,  61,  68,  75],\n",
              "        [ 95, 106, 117,  95, 106, 117]])"
            ]
          },
          "metadata": {},
          "execution_count": 77
        }
      ]
    },
    {
      "cell_type": "markdown",
      "source": [
        "`torch.vstack()` - Stack tensors in sequence vertically (row wise).\n",
        "\n",
        "This is equivalent to concatenation along the first axis after all 1-D tensors have been reshaped by torch.atleast_2d()."
      ],
      "metadata": {
        "id": "NmZFjmE0LJgv"
      }
    },
    {
      "cell_type": "code",
      "source": [
        "torch.vstack([x,x])"
      ],
      "metadata": {
        "colab": {
          "base_uri": "https://localhost:8080/"
        },
        "id": "sx5jGPo3Kp0_",
        "outputId": "88243dd5-8e06-4066-cdca-7ffae44053a3"
      },
      "execution_count": 78,
      "outputs": [
        {
          "output_type": "execute_result",
          "data": {
            "text/plain": [
              "tensor([[5., 2., 3., 4., 5., 6., 7., 8., 9.],\n",
              "        [5., 2., 3., 4., 5., 6., 7., 8., 9.]])"
            ]
          },
          "metadata": {},
          "execution_count": 78
        }
      ]
    },
    {
      "cell_type": "code",
      "source": [
        "torch.vstack([output, output])"
      ],
      "metadata": {
        "colab": {
          "base_uri": "https://localhost:8080/"
        },
        "id": "Rco2ksQ7KpxH",
        "outputId": "fe51c6a9-fcab-4d15-c294-6f1cf061337f"
      },
      "execution_count": 79,
      "outputs": [
        {
          "output_type": "execute_result",
          "data": {
            "text/plain": [
              "tensor([[ 27,  30,  33],\n",
              "        [ 61,  68,  75],\n",
              "        [ 95, 106, 117],\n",
              "        [ 27,  30,  33],\n",
              "        [ 61,  68,  75],\n",
              "        [ 95, 106, 117]])"
            ]
          },
          "metadata": {},
          "execution_count": 79
        }
      ]
    },
    {
      "cell_type": "markdown",
      "source": [
        "`torch.squeeze(tensor)` or `tensor.squeeze()` - Returns a tensor with all specified dimensions of input of size 1 removed."
      ],
      "metadata": {
        "id": "mxZgiIbg8TGA"
      }
    },
    {
      "cell_type": "code",
      "source": [
        "x, x.shape"
      ],
      "metadata": {
        "id": "ZCJo69wfKpuL",
        "colab": {
          "base_uri": "https://localhost:8080/"
        },
        "outputId": "4ab5d553-4a7f-44dc-d4c5-17e752f2dfd3"
      },
      "execution_count": 82,
      "outputs": [
        {
          "output_type": "execute_result",
          "data": {
            "text/plain": [
              "(tensor([5., 2., 3., 4., 5., 6., 7., 8., 9.]), torch.Size([9]))"
            ]
          },
          "metadata": {},
          "execution_count": 82
        }
      ]
    },
    {
      "cell_type": "code",
      "source": [
        "x.reshape(1,9), x.reshape(1,9).shape"
      ],
      "metadata": {
        "colab": {
          "base_uri": "https://localhost:8080/"
        },
        "id": "vSI2F9Ks8EUM",
        "outputId": "3b8c0d36-cf67-475f-ad75-c4e026c7def2"
      },
      "execution_count": 84,
      "outputs": [
        {
          "output_type": "execute_result",
          "data": {
            "text/plain": [
              "(tensor([[5., 2., 3., 4., 5., 6., 7., 8., 9.]]), torch.Size([1, 9]))"
            ]
          },
          "metadata": {},
          "execution_count": 84
        }
      ]
    },
    {
      "cell_type": "code",
      "source": [
        "x.reshape(1,9).squeeze(), x.reshape(1,9).squeeze().shape"
      ],
      "metadata": {
        "id": "bB8qAqyAKpq4",
        "colab": {
          "base_uri": "https://localhost:8080/"
        },
        "outputId": "6951c3f7-8461-46dc-b21f-bc933d0e7d7c"
      },
      "execution_count": 85,
      "outputs": [
        {
          "output_type": "execute_result",
          "data": {
            "text/plain": [
              "(tensor([5., 2., 3., 4., 5., 6., 7., 8., 9.]), torch.Size([9]))"
            ]
          },
          "metadata": {},
          "execution_count": 85
        }
      ]
    },
    {
      "cell_type": "markdown",
      "source": [
        "Removes all the single dimensions of the tensor, however, we can also specify to remove a particular dimension as well."
      ],
      "metadata": {
        "id": "tCSDfpjW8NWj"
      }
    },
    {
      "cell_type": "code",
      "source": [
        "TENSOR = torch.tensor([\n",
        "    [\n",
        "        [1],\n",
        "        [3],\n",
        "        [7]\n",
        "    ],\n",
        "])\n",
        "TENSOR, TENSOR.shape"
      ],
      "metadata": {
        "id": "_tQv5TQDKpnQ",
        "colab": {
          "base_uri": "https://localhost:8080/"
        },
        "outputId": "6747a4df-c25e-40a1-9daa-d1c9e6835ad8"
      },
      "execution_count": 89,
      "outputs": [
        {
          "output_type": "execute_result",
          "data": {
            "text/plain": [
              "(tensor([[[1],\n",
              "          [3],\n",
              "          [7]]]),\n",
              " torch.Size([1, 3, 1]))"
            ]
          },
          "metadata": {},
          "execution_count": 89
        }
      ]
    },
    {
      "cell_type": "code",
      "source": [
        "TENSOR.squeeze(), TENSOR.squeeze().shape"
      ],
      "metadata": {
        "colab": {
          "base_uri": "https://localhost:8080/"
        },
        "id": "wQwZxxjt8tWR",
        "outputId": "e7ba9421-9671-4829-bcaf-c18735390917"
      },
      "execution_count": 90,
      "outputs": [
        {
          "output_type": "execute_result",
          "data": {
            "text/plain": [
              "(tensor([1, 3, 7]), torch.Size([3]))"
            ]
          },
          "metadata": {},
          "execution_count": 90
        }
      ]
    },
    {
      "cell_type": "code",
      "source": [
        "## Removing the 0th dim\n",
        "TENSOR.squeeze(dim=0), TENSOR.squeeze(dim=0).shape"
      ],
      "metadata": {
        "colab": {
          "base_uri": "https://localhost:8080/"
        },
        "id": "38FdkCdM90lk",
        "outputId": "2c2d35d5-6bae-4ee1-f235-9b49866c26d8"
      },
      "execution_count": 91,
      "outputs": [
        {
          "output_type": "execute_result",
          "data": {
            "text/plain": [
              "(tensor([[1],\n",
              "         [3],\n",
              "         [7]]),\n",
              " torch.Size([3, 1]))"
            ]
          },
          "metadata": {},
          "execution_count": 91
        }
      ]
    },
    {
      "cell_type": "code",
      "source": [
        "## removing the 1st dim ---- will not do anything as it is not 1\n",
        "TENSOR.squeeze(dim=1), TENSOR.squeeze(dim=1).shape"
      ],
      "metadata": {
        "colab": {
          "base_uri": "https://localhost:8080/"
        },
        "id": "UYGX2j4q-DH6",
        "outputId": "ac72f489-9b65-4608-c588-ca86c8c9f1d2"
      },
      "execution_count": 94,
      "outputs": [
        {
          "output_type": "execute_result",
          "data": {
            "text/plain": [
              "(tensor([[[1],\n",
              "          [3],\n",
              "          [7]]]),\n",
              " torch.Size([1, 3, 1]))"
            ]
          },
          "metadata": {},
          "execution_count": 94
        }
      ]
    },
    {
      "cell_type": "code",
      "source": [
        "## removing the 2nd dim\n",
        "TENSOR.squeeze(dim=2), TENSOR.squeeze(dim=2).shape"
      ],
      "metadata": {
        "colab": {
          "base_uri": "https://localhost:8080/"
        },
        "id": "lNCY0ldR95a8",
        "outputId": "fd046f22-6d3e-4fa8-cc81-fe7f5afe6dd9"
      },
      "execution_count": 93,
      "outputs": [
        {
          "output_type": "execute_result",
          "data": {
            "text/plain": [
              "(tensor([[1, 3, 7]]), torch.Size([1, 3]))"
            ]
          },
          "metadata": {},
          "execution_count": 93
        }
      ]
    },
    {
      "cell_type": "markdown",
      "source": [
        "`tensor.unsqueeze(dim)` or `torch.unsqueeze(tensor, dim)` - Returns a new tensor with a dimension of size one inserted at the specified position.\n",
        "\n",
        "A dim value within the range `[-input.dim() - 1, input.dim() + 1)` can be used. Negative dim will correspond to unsqueeze() applied at `dim = dim + input.dim() + 1`."
      ],
      "metadata": {
        "id": "81a-AUU59EvI"
      }
    },
    {
      "cell_type": "code",
      "source": [
        "TENSOR_squeezed = TENSOR.squeeze()\n",
        "TENSOR_squeezed, TENSOR_squeezed.shape, TENSOR_squeezed.dim()"
      ],
      "metadata": {
        "colab": {
          "base_uri": "https://localhost:8080/"
        },
        "id": "jRSe9VUB8_ja",
        "outputId": "01507db1-1ce7-41fa-b1a7-7a5b252c4a27"
      },
      "execution_count": 99,
      "outputs": [
        {
          "output_type": "execute_result",
          "data": {
            "text/plain": [
              "(tensor([1, 3, 7]), torch.Size([3]), 1)"
            ]
          },
          "metadata": {},
          "execution_count": 99
        }
      ]
    },
    {
      "cell_type": "markdown",
      "source": [
        "here, dim = [-2, 2)"
      ],
      "metadata": {
        "id": "vJO-c2UR-vKo"
      }
    },
    {
      "cell_type": "code",
      "source": [
        "TENSOR_squeezed.unsqueeze(0), TENSOR_squeezed.unsqueeze(0).shape"
      ],
      "metadata": {
        "colab": {
          "base_uri": "https://localhost:8080/"
        },
        "id": "KqBbozQL8_gO",
        "outputId": "5c43a4ce-7587-4b75-ef85-2204e475a4f1"
      },
      "execution_count": 96,
      "outputs": [
        {
          "output_type": "execute_result",
          "data": {
            "text/plain": [
              "(tensor([[1, 3, 7]]), torch.Size([1, 3]))"
            ]
          },
          "metadata": {},
          "execution_count": 96
        }
      ]
    },
    {
      "cell_type": "code",
      "source": [
        "TENSOR_squeezed.unsqueeze(1), TENSOR_squeezed.unsqueeze(1).shape"
      ],
      "metadata": {
        "colab": {
          "base_uri": "https://localhost:8080/"
        },
        "id": "U8N_TjS88_c2",
        "outputId": "a2c33f2f-16aa-42ca-f5b6-5b26df2dfcd6"
      },
      "execution_count": 97,
      "outputs": [
        {
          "output_type": "execute_result",
          "data": {
            "text/plain": [
              "(tensor([[1],\n",
              "         [3],\n",
              "         [7]]),\n",
              " torch.Size([3, 1]))"
            ]
          },
          "metadata": {},
          "execution_count": 97
        }
      ]
    },
    {
      "cell_type": "markdown",
      "source": [
        "`torch.permute(dim)` or `tensor.permute(dim)` - Returns a view (shares the same memory of original tensor) of the original tensor input with its dimensions permuted. It rearranges the dimensions to the new dim you want."
      ],
      "metadata": {
        "id": "FL3ietA7_Nx4"
      }
    },
    {
      "cell_type": "code",
      "source": [
        "TENSOR = torch.rand(size=(2,4,2))\n",
        "TENSOR, TENSOR.shape"
      ],
      "metadata": {
        "colab": {
          "base_uri": "https://localhost:8080/"
        },
        "id": "qNZT80qD8_QB",
        "outputId": "54aff649-d6c6-481d-fccc-7c7d9a12325c"
      },
      "execution_count": 102,
      "outputs": [
        {
          "output_type": "execute_result",
          "data": {
            "text/plain": [
              "(tensor([[[0.6854, 0.3215],\n",
              "          [0.4931, 0.4182],\n",
              "          [0.0730, 0.9704],\n",
              "          [0.1698, 0.6553]],\n",
              " \n",
              "         [[0.1437, 0.8504],\n",
              "          [0.4282, 0.2899],\n",
              "          [0.7576, 0.4150],\n",
              "          [0.0965, 0.2018]]]),\n",
              " torch.Size([2, 4, 2]))"
            ]
          },
          "metadata": {},
          "execution_count": 102
        }
      ]
    },
    {
      "cell_type": "code",
      "source": [
        "TENSOR_permuted = TENSOR.permute(2,0,1) ## shifts dim 0->1, 1->2, and 2->0\n",
        "TENSOR_permuted, TENSOR_permuted.shape"
      ],
      "metadata": {
        "colab": {
          "base_uri": "https://localhost:8080/"
        },
        "id": "yHmkURDaASbq",
        "outputId": "c3413813-83a5-4017-cc25-f6fe6ab33b6b"
      },
      "execution_count": 103,
      "outputs": [
        {
          "output_type": "execute_result",
          "data": {
            "text/plain": [
              "(tensor([[[0.6854, 0.4931, 0.0730, 0.1698],\n",
              "          [0.1437, 0.4282, 0.7576, 0.0965]],\n",
              " \n",
              "         [[0.3215, 0.4182, 0.9704, 0.6553],\n",
              "          [0.8504, 0.2899, 0.4150, 0.2018]]]),\n",
              " torch.Size([2, 2, 4]))"
            ]
          },
          "metadata": {},
          "execution_count": 103
        }
      ]
    },
    {
      "cell_type": "code",
      "source": [
        "TENSOR[0,0,0] = 0\n",
        "TENSOR"
      ],
      "metadata": {
        "colab": {
          "base_uri": "https://localhost:8080/"
        },
        "id": "cuqXVM0OBggj",
        "outputId": "e8161875-e55a-4f1c-aabd-e384fdafb54e"
      },
      "execution_count": 107,
      "outputs": [
        {
          "output_type": "execute_result",
          "data": {
            "text/plain": [
              "tensor([[[0.0000, 0.3215],\n",
              "         [0.4931, 0.4182],\n",
              "         [0.0730, 0.9704],\n",
              "         [0.1698, 0.6553]],\n",
              "\n",
              "        [[0.1437, 0.8504],\n",
              "         [0.4282, 0.2899],\n",
              "         [0.7576, 0.4150],\n",
              "         [0.0965, 0.2018]]])"
            ]
          },
          "metadata": {},
          "execution_count": 107
        }
      ]
    },
    {
      "cell_type": "code",
      "source": [
        "TENSOR_permuted"
      ],
      "metadata": {
        "colab": {
          "base_uri": "https://localhost:8080/"
        },
        "id": "Kf16VPAIBgdD",
        "outputId": "dcfe574c-8e1b-4cc6-f723-e1c1fa15b31b"
      },
      "execution_count": 108,
      "outputs": [
        {
          "output_type": "execute_result",
          "data": {
            "text/plain": [
              "tensor([[[0.0000, 0.4931, 0.0730, 0.1698],\n",
              "         [0.1437, 0.4282, 0.7576, 0.0965]],\n",
              "\n",
              "        [[0.3215, 0.4182, 0.9704, 0.6553],\n",
              "         [0.8504, 0.2899, 0.4150, 0.2018]]])"
            ]
          },
          "metadata": {},
          "execution_count": 108
        }
      ]
    },
    {
      "cell_type": "markdown",
      "source": [
        "Since, the permuted TENSOR is a view, therefore, a change in TENSOR will change in permuted as well and vice versa."
      ],
      "metadata": {
        "id": "BF2dWNxoBurv"
      }
    },
    {
      "cell_type": "code",
      "source": [],
      "metadata": {
        "id": "Xo1z1H5jBgUP"
      },
      "execution_count": null,
      "outputs": []
    }
  ]
}
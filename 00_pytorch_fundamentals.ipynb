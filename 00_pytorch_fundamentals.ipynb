{
  "nbformat": 4,
  "nbformat_minor": 0,
  "metadata": {
    "colab": {
      "provenance": [],
      "toc_visible": true,
      "gpuType": "T4",
      "authorship_tag": "ABX9TyMsbt5pU6I3kdK7xQ1B4c/j",
      "include_colab_link": true
    },
    "kernelspec": {
      "name": "python3",
      "display_name": "Python 3"
    },
    "language_info": {
      "name": "python"
    }
  },
  "cells": [
    {
      "cell_type": "markdown",
      "metadata": {
        "id": "view-in-github",
        "colab_type": "text"
      },
      "source": [
        "<a href=\"https://colab.research.google.com/github/vanshuwjoshi/Learning-PyTorch/blob/main/00_pytorch_fundamentals.ipynb\" target=\"_parent\"><img src=\"https://colab.research.google.com/assets/colab-badge.svg\" alt=\"Open In Colab\"/></a>"
      ]
    },
    {
      "cell_type": "markdown",
      "source": [
        "## 00. PyTorch Fundamentals\n",
        "\n",
        "https://www.learnpytorch.io/00_pytorch_fundamentals/"
      ],
      "metadata": {
        "id": "lFdm28Ahu-rD"
      }
    },
    {
      "cell_type": "code",
      "execution_count": null,
      "metadata": {
        "colab": {
          "base_uri": "https://localhost:8080/"
        },
        "id": "s9JUcpBDgoJK",
        "outputId": "168a88e2-929f-4db7-c03e-93eaa4251964"
      },
      "outputs": [
        {
          "output_type": "stream",
          "name": "stdout",
          "text": [
            "2.3.0+cu121\n"
          ]
        }
      ],
      "source": [
        "import torch\n",
        "print(torch.__version__)"
      ]
    },
    {
      "cell_type": "markdown",
      "source": [
        "### Introduction to Tensors\n",
        "\n",
        "#### Creating tensors\n",
        "\n",
        "PyTorch tensors are created using `torch.Tensor()`"
      ],
      "metadata": {
        "id": "0qCbd1RSwQND"
      }
    },
    {
      "cell_type": "markdown",
      "source": [
        "#### Scalar"
      ],
      "metadata": {
        "id": "XMld8P3F69KL"
      }
    },
    {
      "cell_type": "code",
      "source": [
        "## scalar\n",
        "scalar = torch.tensor(7)\n",
        "scalar"
      ],
      "metadata": {
        "colab": {
          "base_uri": "https://localhost:8080/"
        },
        "id": "7O8kaBu4hH1R",
        "outputId": "ef21b734-4a75-482b-f731-b1513e335398"
      },
      "execution_count": null,
      "outputs": [
        {
          "output_type": "execute_result",
          "data": {
            "text/plain": [
              "tensor(7)"
            ]
          },
          "metadata": {},
          "execution_count": 41
        }
      ]
    },
    {
      "cell_type": "code",
      "source": [
        "scalar.ndim"
      ],
      "metadata": {
        "colab": {
          "base_uri": "https://localhost:8080/"
        },
        "id": "6oXhcNb4hHyK",
        "outputId": "2fe2b216-6276-4573-8a97-86b67af82c1c"
      },
      "execution_count": null,
      "outputs": [
        {
          "output_type": "execute_result",
          "data": {
            "text/plain": [
              "0"
            ]
          },
          "metadata": {},
          "execution_count": 42
        }
      ]
    },
    {
      "cell_type": "markdown",
      "source": [
        "Scalar is a single number without any dimension."
      ],
      "metadata": {
        "id": "Wbw_VNF8xqj-"
      }
    },
    {
      "cell_type": "code",
      "source": [
        "## get tensor object as python int\n",
        "scalar.item()"
      ],
      "metadata": {
        "colab": {
          "base_uri": "https://localhost:8080/"
        },
        "id": "UcjjDraJhHvg",
        "outputId": "c80b70ec-2a4b-4109-bf71-7370b73b3650"
      },
      "execution_count": null,
      "outputs": [
        {
          "output_type": "execute_result",
          "data": {
            "text/plain": [
              "7"
            ]
          },
          "metadata": {},
          "execution_count": 43
        }
      ]
    },
    {
      "cell_type": "markdown",
      "source": [
        "#### Vector"
      ],
      "metadata": {
        "id": "qIXrBUPQ6_mk"
      }
    },
    {
      "cell_type": "code",
      "source": [
        "## vector\n",
        "vector = torch.tensor([7, 8])\n",
        "vector"
      ],
      "metadata": {
        "colab": {
          "base_uri": "https://localhost:8080/"
        },
        "id": "-gISOzC1hHs4",
        "outputId": "0c952b18-d0d8-4feb-e9fd-16bf115b99dd"
      },
      "execution_count": null,
      "outputs": [
        {
          "output_type": "execute_result",
          "data": {
            "text/plain": [
              "tensor([7, 8])"
            ]
          },
          "metadata": {},
          "execution_count": 44
        }
      ]
    },
    {
      "cell_type": "code",
      "source": [
        "vector.ndim"
      ],
      "metadata": {
        "colab": {
          "base_uri": "https://localhost:8080/"
        },
        "id": "P1FUZRf5hHnM",
        "outputId": "b9bc5463-3317-456b-b3cc-e9b47c0184d9"
      },
      "execution_count": null,
      "outputs": [
        {
          "output_type": "execute_result",
          "data": {
            "text/plain": [
              "1"
            ]
          },
          "metadata": {},
          "execution_count": 45
        }
      ]
    },
    {
      "cell_type": "code",
      "source": [
        "vector.shape"
      ],
      "metadata": {
        "colab": {
          "base_uri": "https://localhost:8080/"
        },
        "id": "2q6iOFHayFsx",
        "outputId": "0f8e9d44-f580-48ec-ad8f-2dc33b1d9ad2"
      },
      "execution_count": null,
      "outputs": [
        {
          "output_type": "execute_result",
          "data": {
            "text/plain": [
              "torch.Size([2])"
            ]
          },
          "metadata": {},
          "execution_count": 46
        }
      ]
    },
    {
      "cell_type": "markdown",
      "source": [
        "Vector is like an array with one row and therfore, ndim returns 1 and shape returns 2 as the length of the array."
      ],
      "metadata": {
        "id": "UTSvtJLmyQ2W"
      }
    },
    {
      "cell_type": "markdown",
      "source": [
        "#### Matrix"
      ],
      "metadata": {
        "id": "42gU4lzi7FeK"
      }
    },
    {
      "cell_type": "code",
      "source": [
        "## MATRIX\n",
        "MATRIX = torch.tensor([\n",
        "    [7,8],\n",
        "    [8,9]\n",
        "])\n",
        "MATRIX"
      ],
      "metadata": {
        "colab": {
          "base_uri": "https://localhost:8080/"
        },
        "id": "mrB1lZoiyFqF",
        "outputId": "345cec9e-3368-4a27-e5ba-18e443856ce9"
      },
      "execution_count": null,
      "outputs": [
        {
          "output_type": "execute_result",
          "data": {
            "text/plain": [
              "tensor([[7, 8],\n",
              "        [8, 9]])"
            ]
          },
          "metadata": {},
          "execution_count": 47
        }
      ]
    },
    {
      "cell_type": "markdown",
      "source": [
        "All of these (scalar, vector, matrix) are TENSOR datatype"
      ],
      "metadata": {
        "id": "eL0iAUA3y02r"
      }
    },
    {
      "cell_type": "code",
      "source": [
        "MATRIX.ndim"
      ],
      "metadata": {
        "colab": {
          "base_uri": "https://localhost:8080/"
        },
        "id": "DPyydNp3yFne",
        "outputId": "09825443-4861-49c2-e957-16825aede6cd"
      },
      "execution_count": null,
      "outputs": [
        {
          "output_type": "execute_result",
          "data": {
            "text/plain": [
              "2"
            ]
          },
          "metadata": {},
          "execution_count": 48
        }
      ]
    },
    {
      "cell_type": "code",
      "source": [
        "MATRIX.shape"
      ],
      "metadata": {
        "colab": {
          "base_uri": "https://localhost:8080/"
        },
        "id": "dE8gqNQKyFkk",
        "outputId": "43c2e4a4-7a28-4be1-d260-0680ac2ad292"
      },
      "execution_count": null,
      "outputs": [
        {
          "output_type": "execute_result",
          "data": {
            "text/plain": [
              "torch.Size([2, 2])"
            ]
          },
          "metadata": {},
          "execution_count": 49
        }
      ]
    },
    {
      "cell_type": "code",
      "source": [
        "print(MATRIX[1])\n",
        "print(MATRIX[0])"
      ],
      "metadata": {
        "colab": {
          "base_uri": "https://localhost:8080/"
        },
        "id": "IIbHnZy3yFeV",
        "outputId": "4e8efa5d-9369-44d7-988e-b4b56020c10c"
      },
      "execution_count": null,
      "outputs": [
        {
          "output_type": "stream",
          "name": "stdout",
          "text": [
            "tensor([8, 9])\n",
            "tensor([7, 8])\n"
          ]
        }
      ]
    },
    {
      "cell_type": "markdown",
      "source": [
        "#### Tensor"
      ],
      "metadata": {
        "id": "gkdW5bnE7ITL"
      }
    },
    {
      "cell_type": "code",
      "source": [
        "## TENSOR\n",
        "TENSOR = torch.tensor([\n",
        "    [\n",
        "        [1,2,3],\n",
        "        [3,4,5],\n",
        "        [7,8,9]\n",
        "    ],\n",
        "    [\n",
        "        [5,6,7],\n",
        "        [1,19,20],\n",
        "        [7,8,12]\n",
        "    ]\n",
        "])\n",
        "TENSOR"
      ],
      "metadata": {
        "colab": {
          "base_uri": "https://localhost:8080/"
        },
        "id": "Cn4VOI8BzLGK",
        "outputId": "9a9bcdbb-a645-4e55-9959-17a97a88a152"
      },
      "execution_count": null,
      "outputs": [
        {
          "output_type": "execute_result",
          "data": {
            "text/plain": [
              "tensor([[[ 1,  2,  3],\n",
              "         [ 3,  4,  5],\n",
              "         [ 7,  8,  9]],\n",
              "\n",
              "        [[ 5,  6,  7],\n",
              "         [ 1, 19, 20],\n",
              "         [ 7,  8, 12]]])"
            ]
          },
          "metadata": {},
          "execution_count": 51
        }
      ]
    },
    {
      "cell_type": "code",
      "source": [
        "TENSOR.ndim"
      ],
      "metadata": {
        "colab": {
          "base_uri": "https://localhost:8080/"
        },
        "id": "OcweXug7zLDB",
        "outputId": "eb6ef0f3-60c0-4d24-e9b2-413896f48146"
      },
      "execution_count": null,
      "outputs": [
        {
          "output_type": "execute_result",
          "data": {
            "text/plain": [
              "3"
            ]
          },
          "metadata": {},
          "execution_count": 52
        }
      ]
    },
    {
      "cell_type": "code",
      "source": [
        "TENSOR.shape"
      ],
      "metadata": {
        "colab": {
          "base_uri": "https://localhost:8080/"
        },
        "id": "-RL3AjVCzKoq",
        "outputId": "813648b7-1ff6-4cb5-ff81-c52f48da4d03"
      },
      "execution_count": null,
      "outputs": [
        {
          "output_type": "execute_result",
          "data": {
            "text/plain": [
              "torch.Size([2, 3, 3])"
            ]
          },
          "metadata": {},
          "execution_count": 53
        }
      ]
    },
    {
      "cell_type": "code",
      "source": [
        "TENSOR[0] ## this is a matrix"
      ],
      "metadata": {
        "colab": {
          "base_uri": "https://localhost:8080/"
        },
        "id": "VcFDafxs0E-q",
        "outputId": "af893b4a-6989-4612-bb4f-7b6cc7356d2f"
      },
      "execution_count": null,
      "outputs": [
        {
          "output_type": "execute_result",
          "data": {
            "text/plain": [
              "tensor([[1, 2, 3],\n",
              "        [3, 4, 5],\n",
              "        [7, 8, 9]])"
            ]
          },
          "metadata": {},
          "execution_count": 54
        }
      ]
    },
    {
      "cell_type": "code",
      "source": [
        "TENSOR[0][1] ## this is a vector"
      ],
      "metadata": {
        "colab": {
          "base_uri": "https://localhost:8080/"
        },
        "id": "1KETIQ700E8G",
        "outputId": "3a5db320-3871-46ed-c513-393be38ab3d6"
      },
      "execution_count": null,
      "outputs": [
        {
          "output_type": "execute_result",
          "data": {
            "text/plain": [
              "tensor([3, 4, 5])"
            ]
          },
          "metadata": {},
          "execution_count": 55
        }
      ]
    },
    {
      "cell_type": "code",
      "source": [
        "TENSOR[0][1][0] ## this is a scalar"
      ],
      "metadata": {
        "colab": {
          "base_uri": "https://localhost:8080/"
        },
        "id": "20p7_c1e0Edz",
        "outputId": "bdd25200-740c-48a1-eef3-f61f1ecf81f1"
      },
      "execution_count": null,
      "outputs": [
        {
          "output_type": "execute_result",
          "data": {
            "text/plain": [
              "tensor(3)"
            ]
          },
          "metadata": {},
          "execution_count": 56
        }
      ]
    },
    {
      "cell_type": "markdown",
      "source": [
        "TENSOR could be said as list of matrices, MATRIX could be called as list of vectors, and VECTOR could be called a list of scalars.\n",
        "\n",
        "- scalar ndim = 0\n",
        "- vector ndim = 1\n",
        "- matirx ndim = 2\n",
        "- tensor ndim = can be any number from 0 (scalar), 1 (vector), 2 (matrix), ...\n",
        "\n",
        "Notations:\n",
        "- scalar - a\n",
        "- vector - y\n",
        "- matrix - Q\n",
        "- tensor - X"
      ],
      "metadata": {
        "id": "47vEA5J-0YJm"
      }
    },
    {
      "cell_type": "markdown",
      "source": [
        "### Random Tensors\n",
        "\n",
        "Why do we need random tensors?\n",
        "\n",
        "Random Tensors are required as many Neural Networks start with tensors full of random numbers and the adjust those random numbers to better represent the data.\n",
        "\n",
        "`Start with random numbers -> look at data -> update random numbers -> look at data -> update random numbers -> so on`"
      ],
      "metadata": {
        "id": "uyt_7y0T0EWw"
      }
    },
    {
      "cell_type": "code",
      "source": [
        "## Create a random tensor of given size\n",
        "random_tensor = torch.rand(4)\n",
        "random_tensor"
      ],
      "metadata": {
        "colab": {
          "base_uri": "https://localhost:8080/"
        },
        "id": "rbMM8C1R3TkA",
        "outputId": "adc80241-c581-40c9-ae4b-9ef6736fdfa6"
      },
      "execution_count": null,
      "outputs": [
        {
          "output_type": "execute_result",
          "data": {
            "text/plain": [
              "tensor([0.7421, 0.8034, 0.1431, 0.4739])"
            ]
          },
          "metadata": {},
          "execution_count": 57
        }
      ]
    },
    {
      "cell_type": "code",
      "source": [
        "random_tensor1 = torch.rand(3,4)\n",
        "\n",
        "## can say list of 2 matrices each of 3 rows and 4 columns\n",
        "random_tensor2 = torch.rand(2,3,4)\n",
        "print(random_tensor1)\n",
        "print(\"Number of Dimensions: \", random_tensor1.ndim)\n",
        "print(\"\")\n",
        "print(random_tensor2)\n",
        "print(\"Number of Dimensions: \", random_tensor2.ndim)"
      ],
      "metadata": {
        "colab": {
          "base_uri": "https://localhost:8080/"
        },
        "id": "boIbHDQm3UMf",
        "outputId": "879bafac-44bd-4abd-baa3-f721b00da3c5"
      },
      "execution_count": null,
      "outputs": [
        {
          "output_type": "stream",
          "name": "stdout",
          "text": [
            "tensor([[0.5912, 0.3303, 0.4463, 0.6288],\n",
            "        [0.9963, 0.1614, 0.3664, 0.5379],\n",
            "        [0.6130, 0.6281, 0.9778, 0.0526]])\n",
            "Number of Dimensions:  2\n",
            "\n",
            "tensor([[[0.1777, 0.8721, 0.0499, 0.7263],\n",
            "         [0.3319, 0.5078, 0.1329, 0.5720],\n",
            "         [0.5451, 0.5631, 0.3253, 0.6035]],\n",
            "\n",
            "        [[0.5279, 0.6648, 0.1355, 0.6162],\n",
            "         [0.7781, 0.4411, 0.5363, 0.1251],\n",
            "         [0.6583, 0.2735, 0.9197, 0.9871]]])\n",
            "Number of Dimensions:  3\n"
          ]
        }
      ]
    },
    {
      "cell_type": "markdown",
      "source": [
        "#### Image Random Tensors"
      ],
      "metadata": {
        "id": "yzA1W8YG7MRq"
      }
    },
    {
      "cell_type": "code",
      "source": [
        "## Create a random tensor with similar shape to an image tensor\n",
        "## color channel (RGB), height, width\n",
        "random_image_size_tensor = torch.rand(3, 224, 224) ## 3 matrices 244 x 244\n",
        "print(random_image_size_tensor.shape)\n",
        "print(random_image_size_tensor.ndim)"
      ],
      "metadata": {
        "colab": {
          "base_uri": "https://localhost:8080/"
        },
        "id": "rNKJHk0r3UEx",
        "outputId": "83896d67-93c2-4e1c-9c9e-d6b99fa62f0c"
      },
      "execution_count": null,
      "outputs": [
        {
          "output_type": "stream",
          "name": "stdout",
          "text": [
            "torch.Size([3, 224, 224])\n",
            "3\n"
          ]
        }
      ]
    },
    {
      "cell_type": "markdown",
      "source": [
        "Therefore, we can say that any type of data can be converted into tensors."
      ],
      "metadata": {
        "id": "jowcNtdT6dcX"
      }
    },
    {
      "cell_type": "markdown",
      "source": [
        "### Zeros and Ones Tensors"
      ],
      "metadata": {
        "id": "PRhQZ2BU7P5G"
      }
    },
    {
      "cell_type": "code",
      "source": [
        "zeros = torch.zeros(size=(3,4))\n",
        "zeros"
      ],
      "metadata": {
        "colab": {
          "base_uri": "https://localhost:8080/"
        },
        "id": "emcvtZZ43UB3",
        "outputId": "27778ee8-9004-49da-ea77-fce457c45aba"
      },
      "execution_count": null,
      "outputs": [
        {
          "output_type": "execute_result",
          "data": {
            "text/plain": [
              "tensor([[0., 0., 0., 0.],\n",
              "        [0., 0., 0., 0.],\n",
              "        [0., 0., 0., 0.]])"
            ]
          },
          "metadata": {},
          "execution_count": 60
        }
      ]
    },
    {
      "cell_type": "code",
      "source": [
        "zeros * random_tensor1"
      ],
      "metadata": {
        "colab": {
          "base_uri": "https://localhost:8080/"
        },
        "id": "2Jjz8cHQ7ezU",
        "outputId": "430696cb-72ff-4084-d71c-e262280a54d8"
      },
      "execution_count": null,
      "outputs": [
        {
          "output_type": "execute_result",
          "data": {
            "text/plain": [
              "tensor([[0., 0., 0., 0.],\n",
              "        [0., 0., 0., 0.],\n",
              "        [0., 0., 0., 0.]])"
            ]
          },
          "metadata": {},
          "execution_count": 61
        }
      ]
    },
    {
      "cell_type": "code",
      "source": [
        "ones = torch.ones(size=(3,4))\n",
        "ones"
      ],
      "metadata": {
        "colab": {
          "base_uri": "https://localhost:8080/"
        },
        "id": "qK4p1gaC7jSK",
        "outputId": "46d2295b-5aa5-43b1-830c-14dafab2c5e0"
      },
      "execution_count": null,
      "outputs": [
        {
          "output_type": "execute_result",
          "data": {
            "text/plain": [
              "tensor([[1., 1., 1., 1.],\n",
              "        [1., 1., 1., 1.],\n",
              "        [1., 1., 1., 1.]])"
            ]
          },
          "metadata": {},
          "execution_count": 62
        }
      ]
    },
    {
      "cell_type": "markdown",
      "source": [
        "Note that by default tensors have float values."
      ],
      "metadata": {
        "id": "5KYK9pnh7vJ0"
      }
    },
    {
      "cell_type": "code",
      "source": [
        "ones * random_tensor1"
      ],
      "metadata": {
        "colab": {
          "base_uri": "https://localhost:8080/"
        },
        "id": "w42IkoBb7pBT",
        "outputId": "23592c28-a3db-40b2-a51e-9be6b2053dfc"
      },
      "execution_count": null,
      "outputs": [
        {
          "output_type": "execute_result",
          "data": {
            "text/plain": [
              "tensor([[0.5912, 0.3303, 0.4463, 0.6288],\n",
              "        [0.9963, 0.1614, 0.3664, 0.5379],\n",
              "        [0.6130, 0.6281, 0.9778, 0.0526]])"
            ]
          },
          "metadata": {},
          "execution_count": 63
        }
      ]
    },
    {
      "cell_type": "markdown",
      "source": [
        "### Creating a range of tensors and tensors-like"
      ],
      "metadata": {
        "id": "Ft9IspDF8Gwr"
      }
    },
    {
      "cell_type": "code",
      "source": [
        "torch.arange(1, 11) ## returns tensor from [start, end)"
      ],
      "metadata": {
        "colab": {
          "base_uri": "https://localhost:8080/"
        },
        "id": "pABTEQ_d7o-5",
        "outputId": "63267d42-d394-457b-b2c3-e2627c6635e8"
      },
      "execution_count": null,
      "outputs": [
        {
          "output_type": "execute_result",
          "data": {
            "text/plain": [
              "tensor([ 1,  2,  3,  4,  5,  6,  7,  8,  9, 10])"
            ]
          },
          "metadata": {},
          "execution_count": 64
        }
      ]
    },
    {
      "cell_type": "code",
      "source": [
        "torch.arange(start=1, end=1000, step=77)"
      ],
      "metadata": {
        "colab": {
          "base_uri": "https://localhost:8080/"
        },
        "id": "Dcnivx9s7o8X",
        "outputId": "34f53367-02f4-41dc-98fd-74e28eae0ac8"
      },
      "execution_count": null,
      "outputs": [
        {
          "output_type": "execute_result",
          "data": {
            "text/plain": [
              "tensor([  1,  78, 155, 232, 309, 386, 463, 540, 617, 694, 771, 848, 925])"
            ]
          },
          "metadata": {},
          "execution_count": 65
        }
      ]
    },
    {
      "cell_type": "code",
      "source": [
        "## Creating tensor-like\n",
        "## to get say a zeros tensor of the same shape as other tensor\n",
        "## without mentioning the shape of input tensor\n",
        "one_to_ten = torch.arange(1, 11)\n",
        "ten_zeros = torch.zeros_like(input=one_to_ten)\n",
        "ten_zeros"
      ],
      "metadata": {
        "colab": {
          "base_uri": "https://localhost:8080/"
        },
        "id": "IMzU6oMS7ozI",
        "outputId": "ec97b98c-00b6-4bb0-8b41-338c37cb5f64"
      },
      "execution_count": null,
      "outputs": [
        {
          "output_type": "execute_result",
          "data": {
            "text/plain": [
              "tensor([0, 0, 0, 0, 0, 0, 0, 0, 0, 0])"
            ]
          },
          "metadata": {},
          "execution_count": 66
        }
      ]
    },
    {
      "cell_type": "code",
      "source": [
        "random_tensor1"
      ],
      "metadata": {
        "colab": {
          "base_uri": "https://localhost:8080/"
        },
        "id": "yBCMicj6-IgC",
        "outputId": "3383d8c8-5b77-4d98-fb37-65d775692fd4"
      },
      "execution_count": null,
      "outputs": [
        {
          "output_type": "execute_result",
          "data": {
            "text/plain": [
              "tensor([[0.5912, 0.3303, 0.4463, 0.6288],\n",
              "        [0.9963, 0.1614, 0.3664, 0.5379],\n",
              "        [0.6130, 0.6281, 0.9778, 0.0526]])"
            ]
          },
          "metadata": {},
          "execution_count": 67
        }
      ]
    },
    {
      "cell_type": "code",
      "source": [
        "## get 0 tensor as the shape of random_tensor1\n",
        "torch.zeros_like(random_tensor1)"
      ],
      "metadata": {
        "colab": {
          "base_uri": "https://localhost:8080/"
        },
        "id": "AwpD-JLO-KO2",
        "outputId": "d0c4b6d3-80c9-449a-92e3-fb67c85fa629"
      },
      "execution_count": null,
      "outputs": [
        {
          "output_type": "execute_result",
          "data": {
            "text/plain": [
              "tensor([[0., 0., 0., 0.],\n",
              "        [0., 0., 0., 0.],\n",
              "        [0., 0., 0., 0.]])"
            ]
          },
          "metadata": {},
          "execution_count": 68
        }
      ]
    },
    {
      "cell_type": "markdown",
      "source": [
        "### Tensor Datatype\n",
        "\n",
        "3 big errors you'll run into in PyTorch and Deep Learning:\n",
        "- dtype - Tensor datatype\n",
        "\n",
        " float32 (takes 32 bits of memory) is the default datatype. If we are ready to give up some precision we can go for float16 as it can compute faster. If we need more precision we can go for float64\n",
        "- device\n",
        "\n",
        "  default - \"cpu\", can use \"cuda\", the tensors need to be on same device, like one tensor is created on GPU for faster calculations and one is created on CPU, this will create an error.\n",
        "- tensor shape"
      ],
      "metadata": {
        "id": "Iz-Zkh95_rnp"
      }
    },
    {
      "cell_type": "code",
      "source": [
        "float_32_tensor = torch.tensor([3.0,6.0,9.0],\n",
        "                               dtype=None, ## data type\n",
        "                               device=None, ## device of tensor\n",
        "                               requires_grad=False ## track gradients with tensor operations\n",
        "                               )"
      ],
      "metadata": {
        "id": "W53MH9_x-WMU"
      },
      "execution_count": null,
      "outputs": []
    },
    {
      "cell_type": "code",
      "source": [
        "float_32_tensor.dtype"
      ],
      "metadata": {
        "id": "KquQjkMR-WJM",
        "colab": {
          "base_uri": "https://localhost:8080/"
        },
        "outputId": "6e86fe57-a208-4267-9b01-9c8b636ae5dc"
      },
      "execution_count": null,
      "outputs": [
        {
          "output_type": "execute_result",
          "data": {
            "text/plain": [
              "torch.float32"
            ]
          },
          "metadata": {},
          "execution_count": 70
        }
      ]
    },
    {
      "cell_type": "markdown",
      "source": [
        "Even when we said dtype as None, it still makes it to default float32"
      ],
      "metadata": {
        "id": "x6mUXJV9Fjlr"
      }
    },
    {
      "cell_type": "code",
      "source": [
        "## Convert float32 datatype to float16\n",
        "float_16_tensor = float_32_tensor.type(torch.float16)\n",
        "float_16_tensor.dtype"
      ],
      "metadata": {
        "id": "75j143-b-V-4",
        "colab": {
          "base_uri": "https://localhost:8080/"
        },
        "outputId": "e774416d-eed5-43db-b5d5-298f553dad8d"
      },
      "execution_count": null,
      "outputs": [
        {
          "output_type": "execute_result",
          "data": {
            "text/plain": [
              "torch.float16"
            ]
          },
          "metadata": {},
          "execution_count": 71
        }
      ]
    }
  ]
}